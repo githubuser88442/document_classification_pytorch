{
 "cells": [
  {
   "cell_type": "markdown",
   "metadata": {},
   "source": [
    "### Imports and loads"
   ]
  },
  {
   "cell_type": "code",
   "execution_count": 1,
   "metadata": {
    "ExecuteTime": {
     "end_time": "2018-09-07T17:16:32.260083Z",
     "start_time": "2018-09-07T17:16:23.016520Z"
    }
   },
   "outputs": [
    {
     "name": "stderr",
     "output_type": "stream",
     "text": [
      "C:\\Users\\Ranet\\Anaconda3\\lib\\site-packages\\h5py\\__init__.py:36: FutureWarning: Conversion of the second argument of issubdtype from `float` to `np.floating` is deprecated. In future, it will be treated as `np.float64 == np.dtype(float).type`.\n",
      "  from ._conv import register_converters as _register_converters\n",
      "Using TensorFlow backend.\n"
     ]
    }
   ],
   "source": [
    "from typing import List\n",
    "\n",
    "import pickle\n",
    "import numpy as np\n",
    "import html\n",
    "from pathlib import Path\n",
    "\n",
    "#from fastai.text import *\n",
    "from keras.models import Sequential\n",
    "from keras.layers import Dense\n",
    "from keras.layers import LSTM, CuDNNLSTM\n",
    "from keras.layers import Dropout\n",
    "from keras.layers import Conv1D\n",
    "from keras.layers import MaxPooling1D\n",
    "from keras.layers import Flatten\n",
    "from keras.layers import BatchNormalization\n",
    "from keras.layers.embeddings import Embedding\n",
    "\n",
    "from keras.utils import to_categorical\n",
    "\n",
    "from sklearn.model_selection import train_test_split"
   ]
  },
  {
   "cell_type": "code",
   "execution_count": 2,
   "metadata": {
    "ExecuteTime": {
     "end_time": "2018-09-07T17:16:32.263595Z",
     "start_time": "2018-09-07T17:16:32.261087Z"
    },
    "code_folding": []
   },
   "outputs": [],
   "source": [
    "DATA_PATH = Path('DATA/')"
   ]
  },
  {
   "cell_type": "markdown",
   "metadata": {},
   "source": [
    "### Dataset properties, inspection, tokenization"
   ]
  },
  {
   "cell_type": "code",
   "execution_count": 3,
   "metadata": {
    "ExecuteTime": {
     "end_time": "2018-09-07T17:16:32.649404Z",
     "start_time": "2018-09-07T17:16:32.264599Z"
    }
   },
   "outputs": [],
   "source": [
    "DATASET_NAME = 'x_and_y_cleaned.pkl'\n",
    "with open(DATA_PATH/DATASET_NAME, 'rb') as f:\n",
    "    articles, categories = pickle.load(f)"
   ]
  },
  {
   "cell_type": "code",
   "execution_count": 4,
   "metadata": {
    "ExecuteTime": {
     "end_time": "2018-09-07T17:16:32.654423Z",
     "start_time": "2018-09-07T17:16:32.650408Z"
    }
   },
   "outputs": [],
   "source": [
    "# Label None as 'none'\n",
    "categories = ['none' if not x else x for x in categories]"
   ]
  },
  {
   "cell_type": "code",
   "execution_count": 5,
   "metadata": {
    "ExecuteTime": {
     "end_time": "2018-09-07T17:16:32.666463Z",
     "start_time": "2018-09-07T17:16:32.655928Z"
    }
   },
   "outputs": [
    {
     "name": "stdout",
     "output_type": "stream",
     "text": [
      "48514\n",
      "138\n"
     ]
    }
   ],
   "source": [
    "CLASSES = sorted(list(set(categories)))\n",
    "ARTICLE_COUNT = len(articles)\n",
    "CLASS_COUNT = len(CLASSES)\n",
    "BOS = 'xbos'  # beginning-of-sentence tag\n",
    "FLD = 'xfld'  # data field tag\n",
    "MAX_SIZE = 250\n",
    "\n",
    "MAX_VOCAB = 60000\n",
    "min_freq = 5\n",
    "\n",
    "print(ARTICLE_COUNT)\n",
    "print(CLASS_COUNT)"
   ]
  },
  {
   "cell_type": "markdown",
   "metadata": {
    "heading_collapsed": true
   },
   "source": [
    "#### inspect"
   ]
  },
  {
   "cell_type": "code",
   "execution_count": 8,
   "metadata": {
    "ExecuteTime": {
     "end_time": "2018-09-01T10:30:07.129704Z",
     "start_time": "2018-09-01T10:30:07.111642Z"
    },
    "hidden": true
   },
   "outputs": [
    {
     "data": {
      "text/plain": [
       "[('uudised/eesti', 16451),\n",
       " ('melu/elu', 5883),\n",
       " ('uudised/maailm', 4285),\n",
       " ('uudised/krimi', 2211),\n",
       " ('televeeb/tvuudised', 1462),\n",
       " ('arvamus/kommentaar', 1342),\n",
       " ('naine/naised', 1163),\n",
       " ('naine/suhted', 1155),\n",
       " ('melu/seltskond', 969),\n",
       " ('sport/jalgpall', 885),\n",
       " ('naine/ilu', 817),\n",
       " ('uudised/kiiksud', 544),\n",
       " ('sport/korvpall', 541),\n",
       " ('tervis/keha', 502),\n",
       " ('blogid/londonilustiblogi', 480),\n",
       " ('uudised/ilm', 461),\n",
       " ('arvamus/juhtkiri', 454),\n",
       " ('sport/varia', 413),\n",
       " ('raha/kodu', 353),\n",
       " ('meedia/galeriid', 334),\n",
       " ('arvamus/repliik', 324),\n",
       " ('melu/saund', 323),\n",
       " ('melu/sunagukolab', 322),\n",
       " ('sport/kergejoustik', 316),\n",
       " ('meedia/videod', 315),\n",
       " ('sport/talisport', 295),\n",
       " ('blogid/spordiblogi', 288),\n",
       " ('raha/tarbija', 267),\n",
       " ('arvamus/seisukoht', 251),\n",
       " ('naine/toit', 251),\n",
       " ('tervis/uudised', 236),\n",
       " ('tervis/toitumine', 202),\n",
       " ('lemmikloom', 200),\n",
       " ('mehele/tehnika', 198),\n",
       " ('joulud', 197),\n",
       " ('melu/film', 171),\n",
       " ('blogid/teleblogi', 159),\n",
       " ('tervis', 152),\n",
       " ('sport/vormel', 149),\n",
       " ('uudised/ol70', 138),\n",
       " ('sport/automoto', 127),\n",
       " ('raha/rahakott', 125),\n",
       " ('none', 122),\n",
       " ('sport/tennis', 119),\n",
       " ('arvamus/lugejakiri', 112),\n",
       " ('raha', 110),\n",
       " ('blogid/malluka', 109),\n",
       " ('blogid/lehesaba', 108),\n",
       " ('uudised/valimised', 107),\n",
       " ('sport/nfl', 102),\n",
       " ('oltv/sporttv', 89),\n",
       " ('mehele/reis', 87),\n",
       " ('tervis/meeled', 83),\n",
       " ('linnaleht/arvamus', 82),\n",
       " ('tervis/heanou', 67),\n",
       " ('blogid/avastaeestimaad', 63),\n",
       " ('arvamus', 58),\n",
       " ('blogid/pulmablogi', 53),\n",
       " ('blogid/valdojahilo', 52),\n",
       " ('sport/doping', 49),\n",
       " ('naine', 48),\n",
       " ('sport/ujumine', 48),\n",
       " ('sport/jalgrattasport', 47),\n",
       " ('linnaleht/paevateema', 47),\n",
       " ('oltv/uudistv', 45),\n",
       " ('sport/vehklemine', 43),\n",
       " ('sport/vorkpall', 40),\n",
       " ('sport/korvpallimm', 40),\n",
       " ('raha/tehnika', 39),\n",
       " ('tervis/kysimus', 38),\n",
       " ('melu/eurovision', 36),\n",
       " ('tervis/rasedus', 35),\n",
       " ('blogid/seljakotigablogi', 34),\n",
       " ('blogid/psyhholoogiablogi', 34),\n",
       " ('sport/nba', 30),\n",
       " ('blogid/yksikvanem', 29),\n",
       " ('sport/meistriteliiga', 29),\n",
       " ('melu/saund/noorteband', 28),\n",
       " ('eriline/horoskoop', 28),\n",
       " ('naile/ilu', 26),\n",
       " ('arvamus/nadalatipud', 24),\n",
       " ('linnaleht/tarbija', 23),\n",
       " ('blogid/moeajakiri', 23),\n",
       " ('sport/hoki', 22),\n",
       " ('tervis/lapsed', 22),\n",
       " ('linnaleht/persoon', 22),\n",
       " ('blogid/motteid', 22),\n",
       " ('meedia', 21),\n",
       " ('sport/maadlus', 21),\n",
       " ('linnaleht/tallinn', 20),\n",
       " ('blogid/filmiblogi', 18),\n",
       " ('linnaleht/sport', 18),\n",
       " ('sport/olympia', 17),\n",
       " ('sport/kasipall', 17),\n",
       " ('tervis/treenimine', 16),\n",
       " ('blogid/meistriteblogi', 15),\n",
       " ('linnaleht/tartu', 14),\n",
       " ('linnaleht/vabaaeg', 13),\n",
       " ('blogid/aveameerikas', 10),\n",
       " ('blogid/raha', 9),\n",
       " ('tervis/hygieen', 9),\n",
       " ('linnaleht/dilaila', 8),\n",
       " ('arvamus/intervjuu', 8),\n",
       " ('linnaleht/parnu', 7),\n",
       " ('blogid/indoneesiablogi', 7),\n",
       " ('sport/soudmine', 7),\n",
       " ('blogid/korvpallimm', 7),\n",
       " ('blogid/jumestusblogi', 6),\n",
       " ('tervis/raamat', 4),\n",
       " ('arvamus/karikatuur', 4),\n",
       " ('pokker', 4),\n",
       " ('tervis/eakad', 4),\n",
       " ('blogid/moekeeris', 3),\n",
       " ('uudised', 3),\n",
       " ('melu/saund/noorteband/osalejad', 3),\n",
       " ('arvamus/koomiks', 3),\n",
       " ('kroonika/eesti', 2),\n",
       " ('sport', 2),\n",
       " ('linnaleht/karikatuur', 2),\n",
       " ('blogid/raamatublogi', 2),\n",
       " ('oltv/ilukool', 2),\n",
       " ('linnaleht/toimetajaveerg', 2),\n",
       " ('melu/saund/noorteband/galeriid', 2),\n",
       " ('mees/auto', 2),\n",
       " ('sport/muu', 2),\n",
       " ('sport/mm2014', 2),\n",
       " ('blogid/muusikablogi', 2),\n",
       " ('linnaleht/kodusedlood', 1),\n",
       " ('eestinaine/elud-inimesed', 1),\n",
       " ('uudised/presidendiball', 1),\n",
       " ('sport/tantsutydrukud', 1),\n",
       " ('eriline/mystika', 1),\n",
       " ('melu/eestitop', 1),\n",
       " ('aiaeri', 1),\n",
       " ('naine/stella', 1),\n",
       " ('blogid/trenniblogi', 1),\n",
       " ('blogid/opetajablogi', 1),\n",
       " ('blogid/hollandiblogi', 1)]"
      ]
     },
     "execution_count": 8,
     "metadata": {},
     "output_type": "execute_result"
    }
   ],
   "source": [
    "# Class balance check:\n",
    "from collections import Counter\n",
    "freq = Counter(o for o in categories)\n",
    "freq.most_common(138)"
   ]
  },
  {
   "cell_type": "code",
   "execution_count": null,
   "metadata": {
    "hidden": true
   },
   "outputs": [],
   "source": []
  },
  {
   "cell_type": "code",
   "execution_count": 7,
   "metadata": {
    "ExecuteTime": {
     "end_time": "2018-08-05T15:24:00.568629Z",
     "start_time": "2018-08-05T15:24:00.559622Z"
    },
    "hidden": true
   },
   "outputs": [
    {
     "name": "stdout",
     "output_type": "stream",
     "text": [
      "['aiaeri', 'arvamus', 'arvamus/intervjuu', 'arvamus/juhtkiri', 'arvamus/karikatuur', 'arvamus/kommentaar', 'arvamus/koomiks', 'arvamus/lugejakiri', 'arvamus/nadalatipud', 'arvamus/repliik', 'arvamus/seisukoht', 'blogid/avastaeestimaad', 'blogid/aveameerikas', 'blogid/filmiblogi', 'blogid/hollandiblogi', 'blogid/indoneesiablogi', 'blogid/jumestusblogi', 'blogid/korvpallimm', 'blogid/lehesaba', 'blogid/londonilustiblogi', 'blogid/malluka', 'blogid/meistriteblogi', 'blogid/moeajakiri', 'blogid/moekeeris', 'blogid/motteid', 'blogid/muusikablogi', 'blogid/opetajablogi', 'blogid/psyhholoogiablogi', 'blogid/pulmablogi', 'blogid/raamatublogi', 'blogid/raha', 'blogid/seljakotigablogi', 'blogid/spordiblogi', 'blogid/teleblogi', 'blogid/trenniblogi', 'blogid/valdojahilo', 'blogid/yksikvanem', 'eestinaine/elud-inimesed', 'eriline/horoskoop', 'eriline/mystika', 'joulud', 'kroonika/eesti', 'lemmikloom', 'linnaleht/arvamus', 'linnaleht/dilaila', 'linnaleht/karikatuur', 'linnaleht/kodusedlood', 'linnaleht/paevateema', 'linnaleht/parnu', 'linnaleht/persoon', 'linnaleht/sport', 'linnaleht/tallinn', 'linnaleht/tarbija', 'linnaleht/tartu', 'linnaleht/toimetajaveerg', 'linnaleht/vabaaeg', 'meedia', 'meedia/galeriid', 'meedia/videod', 'mees/auto', 'mehele/reis', 'mehele/tehnika', 'melu/eestitop', 'melu/elu', 'melu/eurovision', 'melu/film', 'melu/saund', 'melu/saund/noorteband', 'melu/saund/noorteband/galeriid', 'melu/saund/noorteband/osalejad', 'melu/seltskond', 'melu/sunagukolab', 'naile/ilu', 'naine', 'naine/ilu', 'naine/naised', 'naine/stella', 'naine/suhted', 'naine/toit', 'none', 'oltv/ilukool', 'oltv/sporttv', 'oltv/uudistv', 'pokker', 'raha', 'raha/kodu', 'raha/rahakott', 'raha/tarbija', 'raha/tehnika', 'sport', 'sport/automoto', 'sport/doping', 'sport/hoki', 'sport/jalgpall', 'sport/jalgrattasport', 'sport/kasipall', 'sport/kergejoustik', 'sport/korvpall', 'sport/korvpallimm', 'sport/maadlus', 'sport/meistriteliiga', 'sport/mm2014', 'sport/muu', 'sport/nba', 'sport/nfl', 'sport/olympia', 'sport/soudmine', 'sport/talisport', 'sport/tantsutydrukud', 'sport/tennis', 'sport/ujumine', 'sport/varia', 'sport/vehklemine', 'sport/vorkpall', 'sport/vormel', 'televeeb/tvuudised', 'tervis', 'tervis/eakad', 'tervis/heanou', 'tervis/hygieen', 'tervis/keha', 'tervis/kysimus', 'tervis/lapsed', 'tervis/meeled', 'tervis/raamat', 'tervis/rasedus', 'tervis/toitumine', 'tervis/treenimine', 'tervis/uudised', 'uudised', 'uudised/eesti', 'uudised/ilm', 'uudised/kiiksud', 'uudised/krimi', 'uudised/maailm', 'uudised/ol70', 'uudised/presidendiball', 'uudised/valimised']\n"
     ]
    }
   ],
   "source": [
    "print(CLASSES)"
   ]
  },
  {
   "cell_type": "code",
   "execution_count": 8,
   "metadata": {
    "ExecuteTime": {
     "end_time": "2018-08-05T15:24:00.584644Z",
     "start_time": "2018-08-05T15:24:00.570631Z"
    },
    "hidden": true
   },
   "outputs": [
    {
     "name": "stdout",
     "output_type": "stream",
     "text": [
      "ARTICLE:  Kas parima aastavahetuse programmi pani eetrisse ETV, Kanal 2 või hoopis TV3? ETVst näegid vaatajad saateid \"V ...\n",
      "CATEGORY:  televeeb/tvuudised\n"
     ]
    }
   ],
   "source": [
    "# Dataset examples:\n",
    "index = 0\n",
    "print('ARTICLE: ', articles[index][0:110], '...')\n",
    "print('CATEGORY: ', categories[index])"
   ]
  },
  {
   "cell_type": "code",
   "execution_count": 54,
   "metadata": {
    "ExecuteTime": {
     "end_time": "2018-07-29T21:18:44.131826Z",
     "start_time": "2018-07-29T21:18:41.169277Z"
    },
    "hidden": true
   },
   "outputs": [
    {
     "name": "stdout",
     "output_type": "stream",
     "text": [
      "261.0\n",
      "387.0457805994146\n"
     ]
    }
   ],
   "source": [
    "# Get median/average word count\n",
    "print(np.median([len(x.split(' ')) for x in articles]))\n",
    "print(np.mean([len(x.split(' ')) for x in articles]))"
   ]
  },
  {
   "cell_type": "code",
   "execution_count": 6,
   "metadata": {
    "ExecuteTime": {
     "end_time": "2018-07-31T12:20:33.989982Z",
     "start_time": "2018-07-31T12:20:33.893399Z"
    },
    "hidden": true
   },
   "outputs": [],
   "source": [
    "# One hot encoding\n",
    "# labels = []\n",
    "# for x in categories:\n",
    "#     y = [0 for x in range(CLASS_COUNT)]\n",
    "#     y[CLASSES.index(x)] = 1\n",
    "#     labels.append(y)\n",
    "\n",
    "# Class index encoding\n",
    "labels = []\n",
    "for x in categories:\n",
    "    y = CLASSES.index(x)\n",
    "    labels.append(y)"
   ]
  },
  {
   "cell_type": "code",
   "execution_count": 7,
   "metadata": {
    "ExecuteTime": {
     "end_time": "2018-07-31T12:20:55.175534Z",
     "start_time": "2018-07-31T12:20:54.333043Z"
    },
    "hidden": true
   },
   "outputs": [],
   "source": [
    "np.random.seed(42)\n",
    "train_texts, val_texts, train_labels, val_labels = train_test_split(articles, labels, test_size=0.1, random_state=42)\n",
    "pickle.dump([train_texts, val_texts, train_labels, val_labels], open(DATA_PATH/'tokens'/'trnx_valx_trny_valy_ind_split.pkl', 'wb'))"
   ]
  },
  {
   "cell_type": "markdown",
   "metadata": {
    "code_folding": [],
    "heading_collapsed": true
   },
   "source": [
    "### Tokenize"
   ]
  },
  {
   "cell_type": "code",
   "execution_count": 59,
   "metadata": {
    "ExecuteTime": {
     "end_time": "2018-07-30T13:25:01.369147Z",
     "start_time": "2018-07-30T13:19:35.308770Z"
    },
    "hidden": true
   },
   "outputs": [],
   "source": [
    "tok_train = Tokenizer(lang='xx').proc_all_mp(partition_by_cores(train_texts))\n",
    "tok_val = Tokenizer(lang='xx').proc_all_mp(partition_by_cores(val_texts))"
   ]
  },
  {
   "cell_type": "code",
   "execution_count": 60,
   "metadata": {
    "ExecuteTime": {
     "end_time": "2018-07-30T13:25:18.105637Z",
     "start_time": "2018-07-30T13:25:14.806690Z"
    },
    "hidden": true
   },
   "outputs": [
    {
     "name": "stdout",
     "output_type": "stream",
     "text": [
      "43662\n"
     ]
    },
    {
     "data": {
      "text/plain": [
       "[(',', 657926),\n",
       " ('.', 559252),\n",
       " ('\"', 217175),\n",
       " ('ja', 210514),\n",
       " ('on', 197759),\n",
       " ('et', 150766),\n",
       " ('ei', 106727),\n",
       " ('kui', 74991),\n",
       " ('ta', 66639),\n",
       " ('ka', 58212),\n",
       " ('oli', 51101),\n",
       " ('oma', 46727),\n",
       " ('-', 46020),\n",
       " ('ning', 45314),\n",
       " ('see', 45285),\n",
       " ('xbos', 43662),\n",
       " ('xfld', 43662),\n",
       " ('0', 42597),\n",
       " ('aga', 38936),\n",
       " ('t_up', 31812),\n",
       " ('mis', 31436),\n",
       " ('ma', 30478),\n",
       " ('siis', 29830),\n",
       " ('kes', 29218),\n",
       " ('tema', 28739)]"
      ]
     },
     "execution_count": 60,
     "metadata": {},
     "output_type": "execute_result"
    }
   ],
   "source": [
    "freq = Counter(p for o in tok_train for p in o)\n",
    "print(len(tok_train))\n",
    "freq.most_common(25)"
   ]
  },
  {
   "cell_type": "code",
   "execution_count": 61,
   "metadata": {
    "ExecuteTime": {
     "end_time": "2018-07-30T13:25:32.945314Z",
     "start_time": "2018-07-30T13:25:32.940310Z"
    },
    "hidden": true
   },
   "outputs": [
    {
     "name": "stdout",
     "output_type": "stream",
     "text": [
      "['xbos', 'vehklemisliidu', 'president', ',', 'riigikogu', 'liige', 'margus', 'hanson', 'tõdes', ',', 'et', 'naiskond', 'vehkles', 'kaunilt', 'kuni', 'finaalini', '.', '\"', 'naised', 'olid', 'väga', 'tublid', '.', 'meil', 'on', 'noor', ',', 'perspektiivikas', 'ja', 'arenev', 'võistkond', ':', 'teise', 'kohaga', 'tuleb', 'igati', 'rahul', 'olla', ',', 'sest', 'ega', 'jõu', 'ja', 'võimu', 'vastu', 'ei', 'saa', '!', '\"', 'hanson', 'lisas', ',', 'et', 'teda', 'rõõmustab', 'sten', 'priinitsa', 'individuaalturniiril', 'saadud', 'kaheksas', 'koht', ',', 'millega', 'mees', 'suurendab', 'ka', 't_up', 'eok', 'toetusraha', '.', '\"', 'meie', 'vehklejad', 'on', 'tõestanud', ',', 'et', 'neid', 'saab', 'usaldada', '.', 'sportlased', 'seavad', 'kõrged', 'sihid', 'ja', 'on', 'võimelised', 'neid', 'täitma', ';', '\"', 'kinnitas', 'ta', '.', 'ühtlasi', 'märkis', 'hanson', ',', 'et', 'suur', 'on', 'treener', 'igor', 'tšikinjovi', 'panus', '.', '\"', 'ta', 'on', 'toonud', 'värsket', 'verd', 'ja', 'hingamist', '.', 'see', 'on', 'hästi', 'mõjunud', '.', '\"', 'xfld', 'tk_wrep', '151', '0', '0']\n"
     ]
    }
   ],
   "source": [
    "print(tok_val[5])"
   ]
  },
  {
   "cell_type": "code",
   "execution_count": 62,
   "metadata": {
    "ExecuteTime": {
     "end_time": "2018-07-30T13:25:48.253589Z",
     "start_time": "2018-07-30T13:25:47.768744Z"
    },
    "hidden": true
   },
   "outputs": [
    {
     "name": "stdout",
     "output_type": "stream",
     "text": [
      "4852\n"
     ]
    },
    {
     "data": {
      "text/plain": [
       "[(',', 72534),\n",
       " ('.', 62293),\n",
       " ('\"', 23741),\n",
       " ('ja', 23599),\n",
       " ('on', 21847),\n",
       " ('et', 16600),\n",
       " ('ei', 11625),\n",
       " ('kui', 8402),\n",
       " ('ta', 7294),\n",
       " ('ka', 6594),\n",
       " ('oli', 5541),\n",
       " ('ning', 5219),\n",
       " ('oma', 5142),\n",
       " ('-', 5101),\n",
       " ('see', 4893),\n",
       " ('xbos', 4852),\n",
       " ('xfld', 4852),\n",
       " ('0', 4743),\n",
       " ('aga', 4345),\n",
       " ('mis', 3589),\n",
       " ('t_up', 3475),\n",
       " ('ma', 3323),\n",
       " ('tema', 3264),\n",
       " ('eesti', 3248),\n",
       " ('siis', 3235)]"
      ]
     },
     "execution_count": 62,
     "metadata": {},
     "output_type": "execute_result"
    }
   ],
   "source": [
    "freq_val = Counter(p for o in tok_val for p in o)\n",
    "print(len(tok_val))\n",
    "freq_val.most_common(25)"
   ]
  },
  {
   "cell_type": "code",
   "execution_count": 63,
   "metadata": {
    "ExecuteTime": {
     "end_time": "2018-07-30T13:26:09.459592Z",
     "start_time": "2018-07-30T13:26:04.771503Z"
    },
    "hidden": true
   },
   "outputs": [],
   "source": [
    "np.save(DATA_PATH/'tokens/tok_train_pad.npy', tok_train)\n",
    "np.save(DATA_PATH/'tokens/tok_val_pad.npy', tok_val)"
   ]
  },
  {
   "cell_type": "code",
   "execution_count": 64,
   "metadata": {
    "ExecuteTime": {
     "end_time": "2018-07-30T13:26:24.815144Z",
     "start_time": "2018-07-30T13:26:24.558458Z"
    },
    "hidden": true
   },
   "outputs": [],
   "source": [
    "itos = [o for o,c in freq.most_common(MAX_VOCAB) if c>min_freq]\n",
    "itos.insert(0, '_pad_')\n",
    "itos.insert(0, '_unk_')"
   ]
  },
  {
   "cell_type": "code",
   "execution_count": 65,
   "metadata": {
    "ExecuteTime": {
     "end_time": "2018-07-30T13:26:40.051470Z",
     "start_time": "2018-07-30T13:26:40.007939Z"
    },
    "hidden": true
   },
   "outputs": [],
   "source": [
    "stoi = collections.defaultdict(lambda:0, {v:k for k,v in enumerate(itos)})"
   ]
  },
  {
   "cell_type": "code",
   "execution_count": 97,
   "metadata": {
    "ExecuteTime": {
     "end_time": "2018-07-30T13:43:10.741270Z",
     "start_time": "2018-07-30T13:43:06.742874Z"
    },
    "hidden": true
   },
   "outputs": [],
   "source": [
    "train_lm = np.array([[stoi[o] for o in p] for p in tok_train])\n",
    "val_lm = np.array([[stoi[o] for o in p] for p in tok_val])"
   ]
  },
  {
   "cell_type": "code",
   "execution_count": 117,
   "metadata": {
    "ExecuteTime": {
     "end_time": "2018-07-30T13:52:01.204885Z",
     "start_time": "2018-07-30T13:52:00.857137Z"
    },
    "hidden": true
   },
   "outputs": [],
   "source": [
    "# Pad and crop values\n",
    "train_lm_pad = [x[:MAX_SIZE] if len(x) > MAX_SIZE else x + [0 for i in range(MAX_SIZE - len(x))] for x in train_lm]\n",
    "val_lm_pad = [x[:MAX_SIZE] if len(x) > MAX_SIZE else x + [0 for i in range(MAX_SIZE - len(x))] for x in val_lm]"
   ]
  },
  {
   "cell_type": "code",
   "execution_count": 118,
   "metadata": {
    "ExecuteTime": {
     "end_time": "2018-07-30T13:52:28.419054Z",
     "start_time": "2018-07-30T13:52:27.621530Z"
    },
    "hidden": true
   },
   "outputs": [],
   "source": [
    "np.save(DATA_PATH/'tokens'/'trn_ids.npy', train_lm_pad) # Oversaved all as padded\n",
    "np.save(DATA_PATH/'tokens'/'val_ids.npy', val_lm_pad)\n",
    "pickle.dump(itos, open(DATA_PATH/'tokens'/'itos.pkl', 'wb'))"
   ]
  },
  {
   "cell_type": "markdown",
   "metadata": {},
   "source": [
    "### Load tokenized data"
   ]
  },
  {
   "cell_type": "code",
   "execution_count": 6,
   "metadata": {
    "ExecuteTime": {
     "end_time": "2018-09-07T17:16:34.157385Z",
     "start_time": "2018-09-07T17:16:33.702067Z"
    }
   },
   "outputs": [],
   "source": [
    "train_texts, val_texts, train_labels, val_labels = pickle.load(open(DATA_PATH/'tokens'/'trnx_valx_trny_valy_ind_split.pkl', 'rb'))\n",
    "train_lm = np.load(DATA_PATH/'tokens'/'trn_ids.npy')\n",
    "val_lm = np.load(DATA_PATH/'tokens'/'val_ids.npy')\n",
    "itos = pickle.load(open(DATA_PATH/'tokens'/'itos.pkl', 'rb'))"
   ]
  },
  {
   "cell_type": "markdown",
   "metadata": {
    "heading_collapsed": true
   },
   "source": [
    "#### Display data"
   ]
  },
  {
   "cell_type": "code",
   "execution_count": 91,
   "metadata": {
    "ExecuteTime": {
     "end_time": "2018-07-30T13:41:06.002194Z",
     "start_time": "2018-07-30T13:41:05.996690Z"
    },
    "hidden": true
   },
   "outputs": [
    {
     "name": "stdout",
     "output_type": "stream",
     "text": [
      "xbos Peaminister Taavi Rõivas jätab võimutüli tõttu ära visiidid Leedusse ja Rootsi, teda asendab väliskaubandus- ja ettevõtlusminister Anne Sulling.  Valitsuse pressiesindaja kinnitas pühapäeva pärastlõunal, et Rõivas ei sõida esmaspäeval visiidile Leetu ja Rootsi. Pressiesindaja teatel jäävad visiidid ära \"seoses ametikohustustega Eestis\". Reformierakonna esimees, peaminister Taavi Rõivas pidi esmaspäeval koos teiste Balti riikide valitsusjuhtidega osalema Leedus Klaipedas aset leidval LNG ujuvterminali saabumistseremoonial. Enne tseremooniat pidi aset leidma peaministrite ning Ameerika Ühendriikide esindajate ühine töölõuna. Pärastlõunal pidi Rõivas suunduma edasi Stockholmi, kus toimub Balti- ja Põhjamaade tippkohtumine. Rootsi, Soome, Norra, Islandi, Taani, Eesti, Läti ja Leedu peaministrite kohtumisel räägitakse majanduse olukorrast Euroopas, transatlantilistest suhetest ning Ukrainaga seotud arengutest. Pühapäeval kohtuvad Reformierakonna ja Sotsiaaldemokraatliku Erakonna esimehed, et arutada rahandusminister Jürgen Ligi väljaütlemisest puhkenud tüli. xfld 0 0 0 0 0 0 0 0 0 0 0 0 0 0 0 0 0 0 0 0 0 0 0 0 0 0 0 0 0 0 0 0 0 0 0 0 0 0 0 0 0 0 0 0 0 0 0 0 0 0 0 0 0 0 0 0 0 0 0 0 0 0 0 0 0 0 0 0 0 0 0 0 0 0 0 0 0 0 0 0 0 0 0 0 0 0 0 0 0 0 0 0 0 0 0 0 0 0 0 0 0 0 0 0 0 0 0 0 0 0 0 0 0 0 0 0 0 0 0 0 0 0 0 0 0 0 0 0\n"
     ]
    }
   ],
   "source": [
    "print(train_texts[0])"
   ]
  },
  {
   "cell_type": "code",
   "execution_count": 105,
   "metadata": {
    "ExecuteTime": {
     "end_time": "2018-07-30T13:46:21.018841Z",
     "start_time": "2018-07-30T13:46:21.015339Z"
    },
    "hidden": true
   },
   "outputs": [
    {
     "name": "stdout",
     "output_type": "stream",
     "text": [
      "[17, 425, 524, 658, 2109, 0, 254, 63, 48013, 0, 5, 563, 2, 84, 28902, 0, 5, 53171, 1428, 26646, 3, 64, 755, 588, 438, 2029, 1368, 2, 7, 658, 8, 7061, 661, 4845, 17602, 5, 563, 3, 588, 704, 1070, 48013, 63, 4, 552, 0, 136, 4, 3, 813, 829, 2, 425, 524, 658, 388, 661, 79, 383, 555, 1197, 0, 3403, 5258, 0, 1815, 0, 21, 11591, 0, 0, 3, 105, 50278, 388, 1815, 3905, 31416, 15, 542, 1406, 7017, 3196, 0, 3, 1368, 388, 658, 0, 180, 3805, 2, 45, 638, 50279, 5, 9650, 11347, 3, 563, 2, 322, 2, 954, 2, 5409, 2, 2147, 2, 27, 2, 662, 5, 1109, 31416, 2357, 2275, 3893, 3806, 938, 2, 0, 5920, 15, 12824, 433, 43618, 3, 679, 10646, 813, 5, 7930, 871, 48014, 2, 7, 3819, 1726, 1064, 194, 0, 7214, 1899, 3, 18, 37, 7215, 19, 19, 0, 0, 0, 0, 0, 0, 0, 0, 0, 0, 0, 0, 0, 0, 0, 0, 0, 0, 0, 0, 0, 0, 0, 0, 0, 0, 0, 0, 0, 0, 0, 0, 0, 0, 0, 0, 0, 0, 0, 0, 0, 0, 0, 0, 0, 0, 0, 0, 0, 0, 0, 0, 0, 0, 0, 0, 0, 0, 0, 0, 0, 0, 0, 0, 0, 0, 0, 0, 0, 0, 0, 0, 0, 0, 0, 0, 0, 0, 0, 0, 0, 0, 0, 0, 0, 0, 0, 0, 0, 0, 0, 0, 0, 0, 0, 0, 0, 0]\n"
     ]
    }
   ],
   "source": [
    "print(train_lm[0])"
   ]
  },
  {
   "cell_type": "code",
   "execution_count": 10,
   "metadata": {
    "ExecuteTime": {
     "end_time": "2018-07-31T12:21:46.538046Z",
     "start_time": "2018-07-31T12:21:46.534044Z"
    },
    "hidden": true
   },
   "outputs": [
    {
     "name": "stdout",
     "output_type": "stream",
     "text": [
      "130\n",
      "uudised/eesti\n"
     ]
    }
   ],
   "source": [
    "print(train_labels[0])\n",
    "print(CLASSES[train_labels[0]])\n",
    "# print(CLASSES[train_labels[0].index(1)]) # for one hot"
   ]
  },
  {
   "cell_type": "markdown",
   "metadata": {},
   "source": [
    "### Preprocess, trim, one-hot, calculate class weights"
   ]
  },
  {
   "cell_type": "markdown",
   "metadata": {},
   "source": [
    "##### trimmed classes"
   ]
  },
  {
   "cell_type": "code",
   "execution_count": 7,
   "metadata": {
    "ExecuteTime": {
     "end_time": "2018-09-07T17:17:02.089082Z",
     "start_time": "2018-09-07T17:16:43.814399Z"
    }
   },
   "outputs": [],
   "source": [
    "# Remove small count classes\n",
    "min_count = 50\n",
    "\n",
    "def trim(x_set, y_set, min_count):\n",
    "    trim_set_x = []\n",
    "    trim_set_y = []\n",
    "    for x, y in zip(x_set, y_set):\n",
    "        if y_set.count(y)>= min_count:\n",
    "            trim_set_y.append(y)\n",
    "            trim_set_x.append(x)\n",
    "\n",
    "    return (np.asarray(trim_set_x), trim_set_y)\n",
    "    \n",
    "trim_train_x, trim_train_y = trim(train_lm, train_labels, min_count)\n",
    "trim_val_x, trim_val_y = trim(val_lm, val_labels, min_count)\n",
    "class_counts = [trim_train_y.count(x) for x in set(trim_train_y)]"
   ]
  },
  {
   "cell_type": "markdown",
   "metadata": {
    "ExecuteTime": {
     "end_time": "2018-09-01T17:47:57.108043Z",
     "start_time": "2018-09-01T17:47:57.080886Z"
    },
    "heading_collapsed": true
   },
   "source": [
    "##### class weights"
   ]
  },
  {
   "cell_type": "code",
   "execution_count": 117,
   "metadata": {
    "ExecuteTime": {
     "end_time": "2018-09-01T19:09:47.601982Z",
     "start_time": "2018-09-01T19:09:47.593453Z"
    },
    "hidden": true
   },
   "outputs": [],
   "source": [
    "class_counts = [val_labels.count(x) for x in set(val_labels)]"
   ]
  },
  {
   "cell_type": "code",
   "execution_count": 118,
   "metadata": {
    "ExecuteTime": {
     "end_time": "2018-09-01T19:09:53.964352Z",
     "start_time": "2018-09-01T19:09:53.961843Z"
    },
    "hidden": true
   },
   "outputs": [
    {
     "name": "stdout",
     "output_type": "stream",
     "text": [
      "[8, 41, 147, 11, 4, 33, 39, 5, 1, 1, 1, 1, 12, 56, 7, 3, 4, 2, 3, 5, 2, 26, 14, 7, 6, 3, 1, 16, 1, 14, 8, 2, 2, 3, 2, 2, 4, 1, 1, 2, 32, 28, 12, 13, 571, 4, 15, 28, 7, 88, 40, 4, 6, 87, 113, 126, 30, 16, 9, 4, 8, 38, 13, 26, 1, 11, 5, 3, 95, 8, 2, 32, 58, 4, 1, 6, 5, 10, 2, 28, 13, 3, 40, 3, 7, 12, 170, 13, 8, 1, 50, 4, 8, 2, 3, 21, 1, 22, 1593, 44, 59, 213, 450, 16, 6]\n"
     ]
    }
   ],
   "source": [
    "print(class_counts)"
   ]
  },
  {
   "cell_type": "code",
   "execution_count": 63,
   "metadata": {
    "ExecuteTime": {
     "end_time": "2018-08-31T19:47:27.750532Z",
     "start_time": "2018-08-31T19:47:27.629121Z"
    },
    "hidden": true
   },
   "outputs": [],
   "source": [
    "class_counts = [train_labels.count(x) for x in set(train_labels)]\n",
    "balanced_class_count = len(train_labels) / CLASS_COUNT\n",
    "class_weights = {k: balanced_class_count / train_labels.count(k) for k in set(train_labels)}"
   ]
  },
  {
   "cell_type": "code",
   "execution_count": 64,
   "metadata": {
    "ExecuteTime": {
     "end_time": "2018-08-31T19:47:32.210340Z",
     "start_time": "2018-08-31T19:47:32.204822Z"
    },
    "hidden": true
   },
   "outputs": [
    {
     "data": {
      "text/plain": [
       "{0: 316.39130434782606,\n",
       " 1: 6.327826086956521,\n",
       " 2: 39.54891304347826,\n",
       " 3: 0.7660806400673754,\n",
       " 4: 79.09782608695652,\n",
       " 5: 0.26476259778060757,\n",
       " 6: 105.46376811594202,\n",
       " 7: 3.132587171760654,\n",
       " 8: 15.819565217391304,\n",
       " 9: 1.087255341401464,\n",
       " 10: 1.4924118129614437,\n",
       " 11: 5.455022488755622,\n",
       " 12: 35.15458937198068,\n",
       " 13: 17.57729468599034,\n",
       " 15: 45.19875776397515,\n",
       " 16: 63.278260869565216,\n",
       " 17: 52.73188405797101,\n",
       " 18: 3.295742753623188,\n",
       " 19: 0.7462059064807218,\n",
       " 20: 3.101875532821824,\n",
       " 21: 26.365942028985504,\n",
       " 22: 16.652173913043477,\n",
       " 23: 105.46376811594202,\n",
       " 24: 15.819565217391304,\n",
       " 25: 158.19565217391303,\n",
       " 26: 316.39130434782606,\n",
       " 27: 10.20617110799439,\n",
       " 28: 6.591485507246376,\n",
       " 29: 158.19565217391303,\n",
       " 30: 35.15458937198068,\n",
       " 31: 9.887228260869565,\n",
       " 32: 1.2076003982741452,\n",
       " 33: 2.182008995502249,\n",
       " 34: 316.39130434782606,\n",
       " 35: 7.030917874396135,\n",
       " 36: 13.756143667296785,\n",
       " 37: 316.39130434782606,\n",
       " 38: 12.655652173913042,\n",
       " 40: 1.7480182560653375,\n",
       " 41: 316.39130434782606,\n",
       " 42: 1.701028517999065,\n",
       " 43: 4.275558166862514,\n",
       " 44: 39.54891304347826,\n",
       " 45: 158.19565217391303,\n",
       " 46: 316.39130434782606,\n",
       " 47: 7.030917874396135,\n",
       " 48: 45.19875776397515,\n",
       " 49: 15.819565217391304,\n",
       " 50: 21.092753623188404,\n",
       " 51: 17.57729468599034,\n",
       " 52: 15.066252587991718,\n",
       " 53: 31.639130434782608,\n",
       " 54: 316.39130434782606,\n",
       " 55: 26.365942028985504,\n",
       " 56: 16.652173913043477,\n",
       " 57: 1.047653325655053,\n",
       " 58: 1.1024087259506135,\n",
       " 59: 158.19565217391303,\n",
       " 60: 4.218550724637681,\n",
       " 61: 1.7102232667450057,\n",
       " 62: 316.39130434782606,\n",
       " 63: 0.05956161602933473,\n",
       " 64: 9.887228260869565,\n",
       " 65: 2.028149386845039,\n",
       " 66: 1.0725128960943255,\n",
       " 67: 15.066252587991718,\n",
       " 68: 158.19565217391303,\n",
       " 69: 105.46376811594202,\n",
       " 70: 0.3591274737205744,\n",
       " 71: 1.12195497995683,\n",
       " 72: 14.381422924901186,\n",
       " 73: 7.533126293995859,\n",
       " 74: 0.43341274568195354,\n",
       " 75: 0.3013250517598344,\n",
       " 76: 316.39130434782606,\n",
       " 77: 0.30747454261207585,\n",
       " 78: 1.4316348613023804,\n",
       " 79: 2.9848236259228873,\n",
       " 80: 158.19565217391303,\n",
       " 81: 3.954891304347826,\n",
       " 82: 7.716861081654295,\n",
       " 83: 79.09782608695652,\n",
       " 84: 3.101875532821824,\n",
       " 85: 1.004416839199448,\n",
       " 86: 2.824922360248447,\n",
       " 87: 1.312826988995129,\n",
       " 88: 8.326086956521738,\n",
       " 89: 158.19565217391303,\n",
       " 90: 2.727511244377811,\n",
       " 91: 7.190711462450593,\n",
       " 92: 16.652173913043477,\n",
       " 93: 0.4004953219592735,\n",
       " 94: 8.112597547380156,\n",
       " 95: 21.092753623188404,\n",
       " 96: 1.1140538885486833,\n",
       " 97: 0.655054460347466,\n",
       " 98: 8.78864734299517,\n",
       " 99: 15.819565217391304,\n",
       " 100: 13.756143667296785,\n",
       " 101: 158.19565217391303,\n",
       " 102: 158.19565217391303,\n",
       " 103: 12.655652173913042,\n",
       " 104: 3.439035916824196,\n",
       " 105: 21.092753623188404,\n",
       " 106: 45.19875776397515,\n",
       " 107: 1.1849861586060901,\n",
       " 108: 316.39130434782606,\n",
       " 109: 2.9848236259228873,\n",
       " 110: 7.030917874396135,\n",
       " 111: 0.8482340599137428,\n",
       " 112: 7.909782608695652,\n",
       " 113: 9.587615283267457,\n",
       " 114: 2.309425579181212,\n",
       " 115: 0.2448849104859335,\n",
       " 116: 2.276196434157022,\n",
       " 117: 79.09782608695652,\n",
       " 118: 5.362564480471629,\n",
       " 119: 39.54891304347826,\n",
       " 120: 0.6999807618314736,\n",
       " 121: 9.305626598465473,\n",
       " 122: 14.381422924901186,\n",
       " 123: 4.218550724637681,\n",
       " 124: 158.19565217391303,\n",
       " 125: 9.887228260869565,\n",
       " 126: 1.7480182560653375,\n",
       " 127: 21.092753623188404,\n",
       " 128: 1.478464039008533,\n",
       " 129: 105.46376811594202,\n",
       " 130: 0.021294340042255087,\n",
       " 131: 0.7587321447190073,\n",
       " 132: 0.6523532048408784,\n",
       " 133: 0.15835400618009313,\n",
       " 134: 0.08250099200725582,\n",
       " 135: 2.5933713471133286,\n",
       " 136: 316.39130434782606,\n",
       " 137: 3.132587171760654}"
      ]
     },
     "execution_count": 64,
     "metadata": {},
     "output_type": "execute_result"
    }
   ],
   "source": [
    "class_weights"
   ]
  },
  {
   "cell_type": "markdown",
   "metadata": {},
   "source": [
    "##### One hot encode"
   ]
  },
  {
   "cell_type": "code",
   "execution_count": 8,
   "metadata": {
    "ExecuteTime": {
     "end_time": "2018-09-07T17:17:02.102627Z",
     "start_time": "2018-09-07T17:17:02.090085Z"
    }
   },
   "outputs": [],
   "source": [
    "trim_train_y = to_categorical(trim_train_y)\n",
    "trim_val_y = to_categorical(trim_val_y, num_classes=trim_train_y.shape[-1])"
   ]
  },
  {
   "cell_type": "markdown",
   "metadata": {},
   "source": [
    "### Models"
   ]
  },
  {
   "cell_type": "code",
   "execution_count": 9,
   "metadata": {
    "ExecuteTime": {
     "end_time": "2018-09-07T17:17:02.992145Z",
     "start_time": "2018-09-07T17:17:02.990141Z"
    }
   },
   "outputs": [],
   "source": [
    "bs=128"
   ]
  },
  {
   "cell_type": "markdown",
   "metadata": {
    "ExecuteTime": {
     "end_time": "2018-08-31T18:48:05.171892Z",
     "start_time": "2018-08-31T18:48:05.169884Z"
    }
   },
   "source": [
    "#### Model 1"
   ]
  },
  {
   "cell_type": "markdown",
   "metadata": {},
   "source": [
    "###### CuDNNLSTM"
   ]
  },
  {
   "cell_type": "code",
   "execution_count": 12,
   "metadata": {
    "ExecuteTime": {
     "end_time": "2018-09-07T17:21:08.385061Z",
     "start_time": "2018-09-07T17:21:00.559144Z"
    }
   },
   "outputs": [
    {
     "name": "stdout",
     "output_type": "stream",
     "text": [
      "WARNING:tensorflow:From C:\\Users\\Ranet\\Anaconda3\\lib\\site-packages\\tensorflow\\contrib\\learn\\python\\learn\\datasets\\base.py:198: retry (from tensorflow.contrib.learn.python.learn.datasets.base) is deprecated and will be removed in a future version.\n",
      "Instructions for updating:\n",
      "Use the retry module or similar alternatives.\n",
      "_________________________________________________________________\n",
      "Layer (type)                 Output Shape              Param #   \n",
      "=================================================================\n",
      "embedding_2 (Embedding)      (None, 250, 300)          18000000  \n",
      "_________________________________________________________________\n",
      "cu_dnnlstm_1 (CuDNNLSTM)     (None, 100)               160800    \n",
      "_________________________________________________________________\n",
      "dense_2 (Dense)              (None, 138)               13938     \n",
      "=================================================================\n",
      "Total params: 18,174,738\n",
      "Trainable params: 18,174,738\n",
      "Non-trainable params: 0\n",
      "_________________________________________________________________\n",
      "None\n"
     ]
    }
   ],
   "source": [
    "# CuDNNLSTM\n",
    "e_size = 300\n",
    "model = Sequential()\n",
    "model.add(Embedding(MAX_VOCAB, e_size, input_length=MAX_SIZE))\n",
    "model.add(CuDNNLSTM(100))\n",
    "model.add(Dense(CLASS_COUNT, activation='softmax'))\n",
    "model.compile(loss='categorical_crossentropy', optimizer='adam', metrics=['accuracy'])\n",
    "print(model.summary())"
   ]
  },
  {
   "cell_type": "markdown",
   "metadata": {},
   "source": [
    "###### LSTM"
   ]
  },
  {
   "cell_type": "code",
   "execution_count": 99,
   "metadata": {
    "ExecuteTime": {
     "end_time": "2018-09-01T18:08:20.644841Z",
     "start_time": "2018-09-01T18:08:20.493479Z"
    }
   },
   "outputs": [
    {
     "name": "stdout",
     "output_type": "stream",
     "text": [
      "_________________________________________________________________\n",
      "Layer (type)                 Output Shape              Param #   \n",
      "=================================================================\n",
      "embedding_6 (Embedding)      (None, 250, 300)          18000000  \n",
      "_________________________________________________________________\n",
      "lstm_6 (LSTM)                (None, 100)               160400    \n",
      "_________________________________________________________________\n",
      "dense_6 (Dense)              (None, 138)               13938     \n",
      "=================================================================\n",
      "Total params: 18,174,338\n",
      "Trainable params: 18,174,338\n",
      "Non-trainable params: 0\n",
      "_________________________________________________________________\n",
      "None\n"
     ]
    }
   ],
   "source": [
    "# Regular\n",
    "e_size = 300\n",
    "model = Sequential()\n",
    "model.add(Embedding(MAX_VOCAB, e_size, input_length=MAX_SIZE))\n",
    "model.add(LSTM(100))\n",
    "model.add(Dense(CLASS_COUNT, activation='softmax'))\n",
    "model.compile(loss='categorical_crossentropy', optimizer='adam', metrics=['accuracy'])\n",
    "print(model.summary())"
   ]
  },
  {
   "cell_type": "code",
   "execution_count": 13,
   "metadata": {
    "ExecuteTime": {
     "end_time": "2018-09-07T17:23:52.845343Z",
     "start_time": "2018-09-07T17:21:27.216252Z"
    }
   },
   "outputs": [
    {
     "name": "stdout",
     "output_type": "stream",
     "text": [
      "Train on 42427 samples, validate on 3876 samples\n",
      "Epoch 1/10\n",
      "42427/42427 [==============================] - 16s 377us/step - loss: 2.8493 - acc: 0.3483 - val_loss: 2.1624 - val_acc: 0.4110\n",
      "Epoch 2/10\n",
      "42427/42427 [==============================] - 14s 341us/step - loss: 2.3114 - acc: 0.4529 - val_loss: 1.3359 - val_acc: 0.6336\n",
      "Epoch 3/10\n",
      "42427/42427 [==============================] - 14s 336us/step - loss: 1.5096 - acc: 0.6224 - val_loss: 0.7144 - val_acc: 0.8148\n",
      "Epoch 4/10\n",
      "42427/42427 [==============================] - 14s 335us/step - loss: 0.9331 - acc: 0.7690 - val_loss: 0.4395 - val_acc: 0.9017\n",
      "Epoch 5/10\n",
      "42427/42427 [==============================] - 14s 342us/step - loss: 0.5831 - acc: 0.8568 - val_loss: 0.3430 - val_acc: 0.9252\n",
      "Epoch 6/10\n",
      "42427/42427 [==============================] - 15s 343us/step - loss: 0.3820 - acc: 0.9093 - val_loss: 0.2870 - val_acc: 0.9420\n",
      "Epoch 7/10\n",
      "42427/42427 [==============================] - 14s 338us/step - loss: 0.2579 - acc: 0.9407 - val_loss: 0.2793 - val_acc: 0.9453\n",
      "Epoch 8/10\n",
      "42427/42427 [==============================] - 14s 337us/step - loss: 0.1601 - acc: 0.9652 - val_loss: 0.2749 - val_acc: 0.9492\n",
      "Epoch 9/10\n",
      "42427/42427 [==============================] - 15s 342us/step - loss: 0.1082 - acc: 0.9772 - val_loss: 0.2921 - val_acc: 0.9461\n",
      "Epoch 10/10\n",
      "42427/42427 [==============================] - 14s 336us/step - loss: 0.0721 - acc: 0.9858 - val_loss: 0.2784 - val_acc: 0.9471\n"
     ]
    },
    {
     "data": {
      "text/plain": [
       "<keras.callbacks.History at 0x204a80ed208>"
      ]
     },
     "execution_count": 13,
     "metadata": {},
     "output_type": "execute_result"
    }
   ],
   "source": [
    "model.fit(trim_train_x, trim_train_y, validation_data=(trim_val_x, trim_val_y), epochs=10, batch_size=bs)#, class_weight=class_weights)"
   ]
  },
  {
   "cell_type": "code",
   "execution_count": 112,
   "metadata": {
    "ExecuteTime": {
     "end_time": "2018-09-01T18:57:50.533902Z",
     "start_time": "2018-09-01T18:21:55.528719Z"
    }
   },
   "outputs": [
    {
     "name": "stdout",
     "output_type": "stream",
     "text": [
      "Train on 42427 samples, validate on 3876 samples\n",
      "Epoch 1/10\n",
      "42427/42427 [==============================] - 215s 5ms/step - loss: 1.2626 - acc: 0.6901 - val_loss: 0.6475 - val_acc: 0.8406\n",
      "Epoch 2/10\n",
      "42427/42427 [==============================] - 216s 5ms/step - loss: 0.8221 - acc: 0.8058 - val_loss: 0.4381 - val_acc: 0.8971\n",
      "Epoch 3/10\n",
      "42427/42427 [==============================] - 222s 5ms/step - loss: 0.5142 - acc: 0.8810 - val_loss: 0.3692 - val_acc: 0.9203\n",
      "Epoch 4/10\n",
      "42427/42427 [==============================] - 218s 5ms/step - loss: 0.3681 - acc: 0.9162 - val_loss: 0.3032 - val_acc: 0.9352\n",
      "Epoch 5/10\n",
      "42427/42427 [==============================] - 212s 5ms/step - loss: 0.2354 - acc: 0.9484 - val_loss: 0.2996 - val_acc: 0.9376\n",
      "Epoch 6/10\n",
      "42427/42427 [==============================] - 215s 5ms/step - loss: 0.1537 - acc: 0.9672 - val_loss: 0.2822 - val_acc: 0.9448\n",
      "Epoch 7/10\n",
      "42427/42427 [==============================] - 216s 5ms/step - loss: 0.1248 - acc: 0.9740 - val_loss: 0.2854 - val_acc: 0.9414\n",
      "Epoch 8/10\n",
      "42427/42427 [==============================] - 215s 5ms/step - loss: 0.0881 - acc: 0.9821 - val_loss: 0.2798 - val_acc: 0.9453\n",
      "Epoch 9/10\n",
      "42427/42427 [==============================] - 211s 5ms/step - loss: 0.0623 - acc: 0.9881 - val_loss: 0.2789 - val_acc: 0.9453\n",
      "Epoch 10/10\n",
      "42427/42427 [==============================] - 214s 5ms/step - loss: 0.0425 - acc: 0.9913 - val_loss: 0.2834 - val_acc: 0.9469\n"
     ]
    },
    {
     "data": {
      "text/plain": [
       "<keras.callbacks.History at 0x15756ff7898>"
      ]
     },
     "execution_count": 112,
     "metadata": {},
     "output_type": "execute_result"
    }
   ],
   "source": [
    "model.fit(trim_train_x, trim_train_y, validation_data=(trim_val_x, trim_val_y), epochs=10, batch_size=bs)#, class_weight=class_weights)"
   ]
  },
  {
   "cell_type": "markdown",
   "metadata": {},
   "source": [
    "#### Model 2"
   ]
  },
  {
   "cell_type": "code",
   "execution_count": 113,
   "metadata": {
    "ExecuteTime": {
     "end_time": "2018-09-01T18:57:50.782747Z",
     "start_time": "2018-09-01T18:57:50.538417Z"
    },
    "scrolled": true
   },
   "outputs": [],
   "source": [
    "model_2 = Sequential()\n",
    "model_2.add(Embedding(MAX_VOCAB, e_size, input_length=MAX_SIZE))\n",
    "model_2.add(Dropout(0.25))\n",
    "model_2.add(Conv1D(64, 5, padding='valid', activation='relu', strides=1))\n",
    "model_2.add(MaxPooling1D(pool_size=4))\n",
    "model_2.add(LSTM(70))\n",
    "model_2.add(Dense(CLASS_COUNT, activation='softmax'))\n",
    "model_2.compile(loss='categorical_crossentropy', optimizer='adam', metrics=['accuracy'])"
   ]
  },
  {
   "cell_type": "code",
   "execution_count": 116,
   "metadata": {
    "ExecuteTime": {
     "end_time": "2018-09-01T19:09:27.247923Z",
     "start_time": "2018-09-01T18:59:51.953098Z"
    }
   },
   "outputs": [
    {
     "name": "stdout",
     "output_type": "stream",
     "text": [
      "Train on 42427 samples, validate on 3876 samples\n",
      "Epoch 1/10\n",
      "42427/42427 [==============================] - 56s 1ms/step - loss: 2.4437 - acc: 0.4234 - val_loss: 1.3195 - val_acc: 0.6520\n",
      "Epoch 2/10\n",
      "42427/42427 [==============================] - 53s 1ms/step - loss: 1.5933 - acc: 0.5994 - val_loss: 0.9265 - val_acc: 0.7508\n",
      "Epoch 3/10\n",
      "42427/42427 [==============================] - 56s 1ms/step - loss: 1.1530 - acc: 0.7121 - val_loss: 0.6602 - val_acc: 0.8377\n",
      "Epoch 4/10\n",
      "42427/42427 [==============================] - 59s 1ms/step - loss: 0.8437 - acc: 0.7929 - val_loss: 0.5352 - val_acc: 0.8744\n",
      "Epoch 5/10\n",
      "42427/42427 [==============================] - 59s 1ms/step - loss: 0.6352 - acc: 0.8466 - val_loss: 0.4681 - val_acc: 0.9045\n",
      "Epoch 6/10\n",
      "42427/42427 [==============================] - 57s 1ms/step - loss: 0.4764 - acc: 0.8867 - val_loss: 0.3780 - val_acc: 0.9185\n",
      "Epoch 7/10\n",
      "42427/42427 [==============================] - 57s 1ms/step - loss: 0.3446 - acc: 0.9199 - val_loss: 0.3420 - val_acc: 0.9378\n",
      "Epoch 8/10\n",
      "42427/42427 [==============================] - 58s 1ms/step - loss: 0.2583 - acc: 0.9431 - val_loss: 0.3265 - val_acc: 0.9396\n",
      "Epoch 9/10\n",
      "42427/42427 [==============================] - 57s 1ms/step - loss: 0.1962 - acc: 0.9574 - val_loss: 0.3196 - val_acc: 0.9412\n",
      "Epoch 10/10\n",
      "42427/42427 [==============================] - 60s 1ms/step - loss: 0.1497 - acc: 0.9674 - val_loss: 0.3360 - val_acc: 0.9417\n"
     ]
    },
    {
     "data": {
      "text/plain": [
       "<keras.callbacks.History at 0x1596e8a9710>"
      ]
     },
     "execution_count": 116,
     "metadata": {},
     "output_type": "execute_result"
    }
   ],
   "source": [
    "model_2.fit(trim_train_x, trim_train_y, validation_data=(trim_val_x, trim_val_y), epochs=10, batch_size=bs)#, class_weight=class_weights)"
   ]
  },
  {
   "cell_type": "markdown",
   "metadata": {},
   "source": [
    "#### Model 3"
   ]
  },
  {
   "cell_type": "code",
   "execution_count": 101,
   "metadata": {
    "ExecuteTime": {
     "end_time": "2018-09-01T18:14:41.661693Z",
     "start_time": "2018-09-01T18:14:41.409839Z"
    }
   },
   "outputs": [
    {
     "name": "stdout",
     "output_type": "stream",
     "text": [
      "WARNING:tensorflow:From C:\\Users\\Ranet\\Anaconda3\\lib\\site-packages\\tensorflow\\python\\util\\deprecation.py:497: calling conv1d (from tensorflow.python.ops.nn_ops) with data_format=NHWC is deprecated and will be removed in a future version.\n",
      "Instructions for updating:\n",
      "`NHWC` for data_format is deprecated, use `NWC` instead\n"
     ]
    }
   ],
   "source": [
    "model_3 = Sequential()\n",
    "model_3.add(Embedding(MAX_VOCAB, e_size, input_length=MAX_SIZE))\n",
    "model_3.add(Dropout(0.5))\n",
    "model_3.add(Conv1D(128, 5, padding='valid', activation='relu', strides=1))\n",
    "model_3.add(MaxPooling1D(pool_size=4))\n",
    "model_3.add(Dropout(0.5))\n",
    "model_3.add(Flatten())\n",
    "model_3.add(Dense(256, activation='relu'))\n",
    "model_3.add(Dense(CLASS_COUNT, activation='softmax'))\n",
    "model_3.compile(loss='categorical_crossentropy', optimizer='adam', metrics=['accuracy'])"
   ]
  },
  {
   "cell_type": "markdown",
   "metadata": {},
   "source": [
    "#### Model 4"
   ]
  },
  {
   "cell_type": "code",
   "execution_count": 141,
   "metadata": {
    "ExecuteTime": {
     "end_time": "2018-09-01T20:12:16.039153Z",
     "start_time": "2018-09-01T20:12:15.833957Z"
    }
   },
   "outputs": [],
   "source": [
    "model_4 = Sequential()\n",
    "model_4.add(Embedding(MAX_VOCAB, e_size, input_length=MAX_SIZE))\n",
    "model_4.add(Dropout(0.5))\n",
    "model_4.add(Conv1D(100, 3, padding='valid', activation='relu', strides=1))\n",
    "model_4.add(BatchNormalization())\n",
    "model_4.add(Conv1D(100, 4, padding='valid', activation='relu', strides=1))\n",
    "model_4.add(BatchNormalization())\n",
    "model_4.add(Conv1D(100, 5, padding='valid', activation='relu', strides=1))\n",
    "model_4.add(Dropout(0.75))\n",
    "model_4.add(Flatten())\n",
    "model_4.add(Dense(CLASS_COUNT, activation='softmax'))\n",
    "model_4.compile(loss='categorical_crossentropy', optimizer='adam', metrics=['accuracy'])"
   ]
  },
  {
   "cell_type": "code",
   "execution_count": 143,
   "metadata": {
    "ExecuteTime": {
     "end_time": "2018-09-01T20:15:11.583703Z",
     "start_time": "2018-09-01T20:14:23.131955Z"
    }
   },
   "outputs": [
    {
     "name": "stdout",
     "output_type": "stream",
     "text": [
      "Train on 42427 samples, validate on 3876 samples\n",
      "Epoch 1/10\n"
     ]
    },
    {
     "ename": "ResourceExhaustedError",
     "evalue": "OOM when allocating tensor with shape[60000,300] and type float on /job:localhost/replica:0/task:0/device:GPU:0 by allocator GPU_0_bfc\n\t [[Node: training_13/Adam/mul_3 = Mul[T=DT_FLOAT, _device=\"/job:localhost/replica:0/task:0/device:GPU:0\"](Adam_18/beta_2/read, training_13/Adam/Variable_13/read)]]\nHint: If you want to see a list of allocated tensors when OOM happens, add report_tensor_allocations_upon_oom to RunOptions for current allocation info.\n\n\t [[Node: dense_21/BiasAdd/_3075 = _Recv[client_terminated=false, recv_device=\"/job:localhost/replica:0/task:0/device:CPU:0\", send_device=\"/job:localhost/replica:0/task:0/device:GPU:0\", send_device_incarnation=1, tensor_name=\"edge_589_dense_21/BiasAdd\", tensor_type=DT_FLOAT, _device=\"/job:localhost/replica:0/task:0/device:CPU:0\"]()]]\nHint: If you want to see a list of allocated tensors when OOM happens, add report_tensor_allocations_upon_oom to RunOptions for current allocation info.\n\n\nCaused by op 'training_13/Adam/mul_3', defined at:\n  File \"C:\\Users\\Ranet\\Anaconda3\\lib\\runpy.py\", line 193, in _run_module_as_main\n    \"__main__\", mod_spec)\n  File \"C:\\Users\\Ranet\\Anaconda3\\lib\\runpy.py\", line 85, in _run_code\n    exec(code, run_globals)\n  File \"C:\\Users\\Ranet\\Anaconda3\\lib\\site-packages\\ipykernel_launcher.py\", line 16, in <module>\n    app.launch_new_instance()\n  File \"C:\\Users\\Ranet\\Anaconda3\\lib\\site-packages\\traitlets\\config\\application.py\", line 658, in launch_instance\n    app.start()\n  File \"C:\\Users\\Ranet\\Anaconda3\\lib\\site-packages\\ipykernel\\kernelapp.py\", line 486, in start\n    self.io_loop.start()\n  File \"C:\\Users\\Ranet\\Anaconda3\\lib\\site-packages\\zmq\\eventloop\\ioloop.py\", line 177, in start\n    super(ZMQIOLoop, self).start()\n  File \"C:\\Users\\Ranet\\Anaconda3\\lib\\site-packages\\tornado\\ioloop.py\", line 888, in start\n    handler_func(fd_obj, events)\n  File \"C:\\Users\\Ranet\\Anaconda3\\lib\\site-packages\\tornado\\stack_context.py\", line 277, in null_wrapper\n    return fn(*args, **kwargs)\n  File \"C:\\Users\\Ranet\\Anaconda3\\lib\\site-packages\\zmq\\eventloop\\zmqstream.py\", line 440, in _handle_events\n    self._handle_recv()\n  File \"C:\\Users\\Ranet\\Anaconda3\\lib\\site-packages\\zmq\\eventloop\\zmqstream.py\", line 472, in _handle_recv\n    self._run_callback(callback, msg)\n  File \"C:\\Users\\Ranet\\Anaconda3\\lib\\site-packages\\zmq\\eventloop\\zmqstream.py\", line 414, in _run_callback\n    callback(*args, **kwargs)\n  File \"C:\\Users\\Ranet\\Anaconda3\\lib\\site-packages\\tornado\\stack_context.py\", line 277, in null_wrapper\n    return fn(*args, **kwargs)\n  File \"C:\\Users\\Ranet\\Anaconda3\\lib\\site-packages\\ipykernel\\kernelbase.py\", line 283, in dispatcher\n    return self.dispatch_shell(stream, msg)\n  File \"C:\\Users\\Ranet\\Anaconda3\\lib\\site-packages\\ipykernel\\kernelbase.py\", line 233, in dispatch_shell\n    handler(stream, idents, msg)\n  File \"C:\\Users\\Ranet\\Anaconda3\\lib\\site-packages\\ipykernel\\kernelbase.py\", line 399, in execute_request\n    user_expressions, allow_stdin)\n  File \"C:\\Users\\Ranet\\Anaconda3\\lib\\site-packages\\ipykernel\\ipkernel.py\", line 208, in do_execute\n    res = shell.run_cell(code, store_history=store_history, silent=silent)\n  File \"C:\\Users\\Ranet\\Anaconda3\\lib\\site-packages\\ipykernel\\zmqshell.py\", line 537, in run_cell\n    return super(ZMQInteractiveShell, self).run_cell(*args, **kwargs)\n  File \"C:\\Users\\Ranet\\Anaconda3\\lib\\site-packages\\IPython\\core\\interactiveshell.py\", line 2728, in run_cell\n    interactivity=interactivity, compiler=compiler, result=result)\n  File \"C:\\Users\\Ranet\\Anaconda3\\lib\\site-packages\\IPython\\core\\interactiveshell.py\", line 2856, in run_ast_nodes\n    if self.run_code(code, result):\n  File \"C:\\Users\\Ranet\\Anaconda3\\lib\\site-packages\\IPython\\core\\interactiveshell.py\", line 2910, in run_code\n    exec(code_obj, self.user_global_ns, self.user_ns)\n  File \"<ipython-input-142-f7d0ebd02bf2>\", line 1, in <module>\n    model_4.fit(trim_train_x, trim_train_y, validation_data=(trim_val_x, trim_val_y), epochs=10, batch_size=bs)#, class_weight=class_weights)\n  File \"C:\\Users\\Ranet\\Anaconda3\\lib\\site-packages\\keras\\engine\\training.py\", line 1008, in fit\n    self._make_train_function()\n  File \"C:\\Users\\Ranet\\Anaconda3\\lib\\site-packages\\keras\\engine\\training.py\", line 498, in _make_train_function\n    loss=self.total_loss)\n  File \"C:\\Users\\Ranet\\Anaconda3\\lib\\site-packages\\keras\\legacy\\interfaces.py\", line 91, in wrapper\n    return func(*args, **kwargs)\n  File \"C:\\Users\\Ranet\\Anaconda3\\lib\\site-packages\\keras\\optimizers.py\", line 492, in get_updates\n    v_t = (self.beta_2 * v) + (1. - self.beta_2) * K.square(g)\n  File \"C:\\Users\\Ranet\\Anaconda3\\lib\\site-packages\\tensorflow\\python\\ops\\variables.py\", line 790, in _run_op\n    return getattr(ops.Tensor, operator)(a._AsTensor(), *args)\n  File \"C:\\Users\\Ranet\\Anaconda3\\lib\\site-packages\\tensorflow\\python\\ops\\math_ops.py\", line 971, in binary_op_wrapper\n    return func(x, y, name=name)\n  File \"C:\\Users\\Ranet\\Anaconda3\\lib\\site-packages\\tensorflow\\python\\ops\\math_ops.py\", line 1198, in _mul_dispatch\n    return gen_math_ops.mul(x, y, name=name)\n  File \"C:\\Users\\Ranet\\Anaconda3\\lib\\site-packages\\tensorflow\\python\\ops\\gen_math_ops.py\", line 4991, in mul\n    \"Mul\", x=x, y=y, name=name)\n  File \"C:\\Users\\Ranet\\Anaconda3\\lib\\site-packages\\tensorflow\\python\\framework\\op_def_library.py\", line 787, in _apply_op_helper\n    op_def=op_def)\n  File \"C:\\Users\\Ranet\\Anaconda3\\lib\\site-packages\\tensorflow\\python\\framework\\ops.py\", line 3290, in create_op\n    op_def=op_def)\n  File \"C:\\Users\\Ranet\\Anaconda3\\lib\\site-packages\\tensorflow\\python\\framework\\ops.py\", line 1654, in __init__\n    self._traceback = self._graph._extract_stack()  # pylint: disable=protected-access\n\nResourceExhaustedError (see above for traceback): OOM when allocating tensor with shape[60000,300] and type float on /job:localhost/replica:0/task:0/device:GPU:0 by allocator GPU_0_bfc\n\t [[Node: training_13/Adam/mul_3 = Mul[T=DT_FLOAT, _device=\"/job:localhost/replica:0/task:0/device:GPU:0\"](Adam_18/beta_2/read, training_13/Adam/Variable_13/read)]]\nHint: If you want to see a list of allocated tensors when OOM happens, add report_tensor_allocations_upon_oom to RunOptions for current allocation info.\n\n\t [[Node: dense_21/BiasAdd/_3075 = _Recv[client_terminated=false, recv_device=\"/job:localhost/replica:0/task:0/device:CPU:0\", send_device=\"/job:localhost/replica:0/task:0/device:GPU:0\", send_device_incarnation=1, tensor_name=\"edge_589_dense_21/BiasAdd\", tensor_type=DT_FLOAT, _device=\"/job:localhost/replica:0/task:0/device:CPU:0\"]()]]\nHint: If you want to see a list of allocated tensors when OOM happens, add report_tensor_allocations_upon_oom to RunOptions for current allocation info.\n\n",
     "output_type": "error",
     "traceback": [
      "\u001b[1;31m---------------------------------------------------------------------------\u001b[0m",
      "\u001b[1;31mResourceExhaustedError\u001b[0m                    Traceback (most recent call last)",
      "\u001b[1;32m~\\Anaconda3\\lib\\site-packages\\tensorflow\\python\\client\\session.py\u001b[0m in \u001b[0;36m_do_call\u001b[1;34m(self, fn, *args)\u001b[0m\n\u001b[0;32m   1326\u001b[0m     \u001b[1;32mtry\u001b[0m\u001b[1;33m:\u001b[0m\u001b[1;33m\u001b[0m\u001b[0m\n\u001b[1;32m-> 1327\u001b[1;33m       \u001b[1;32mreturn\u001b[0m \u001b[0mfn\u001b[0m\u001b[1;33m(\u001b[0m\u001b[1;33m*\u001b[0m\u001b[0margs\u001b[0m\u001b[1;33m)\u001b[0m\u001b[1;33m\u001b[0m\u001b[0m\n\u001b[0m\u001b[0;32m   1328\u001b[0m     \u001b[1;32mexcept\u001b[0m \u001b[0merrors\u001b[0m\u001b[1;33m.\u001b[0m\u001b[0mOpError\u001b[0m \u001b[1;32mas\u001b[0m \u001b[0me\u001b[0m\u001b[1;33m:\u001b[0m\u001b[1;33m\u001b[0m\u001b[0m\n",
      "\u001b[1;32m~\\Anaconda3\\lib\\site-packages\\tensorflow\\python\\client\\session.py\u001b[0m in \u001b[0;36m_run_fn\u001b[1;34m(feed_dict, fetch_list, target_list, options, run_metadata)\u001b[0m\n\u001b[0;32m   1311\u001b[0m       return self._call_tf_sessionrun(\n\u001b[1;32m-> 1312\u001b[1;33m           options, feed_dict, fetch_list, target_list, run_metadata)\n\u001b[0m\u001b[0;32m   1313\u001b[0m \u001b[1;33m\u001b[0m\u001b[0m\n",
      "\u001b[1;32m~\\Anaconda3\\lib\\site-packages\\tensorflow\\python\\client\\session.py\u001b[0m in \u001b[0;36m_call_tf_sessionrun\u001b[1;34m(self, options, feed_dict, fetch_list, target_list, run_metadata)\u001b[0m\n\u001b[0;32m   1419\u001b[0m             \u001b[0mself\u001b[0m\u001b[1;33m.\u001b[0m\u001b[0m_session\u001b[0m\u001b[1;33m,\u001b[0m \u001b[0moptions\u001b[0m\u001b[1;33m,\u001b[0m \u001b[0mfeed_dict\u001b[0m\u001b[1;33m,\u001b[0m \u001b[0mfetch_list\u001b[0m\u001b[1;33m,\u001b[0m \u001b[0mtarget_list\u001b[0m\u001b[1;33m,\u001b[0m\u001b[1;33m\u001b[0m\u001b[0m\n\u001b[1;32m-> 1420\u001b[1;33m             status, run_metadata)\n\u001b[0m\u001b[0;32m   1421\u001b[0m \u001b[1;33m\u001b[0m\u001b[0m\n",
      "\u001b[1;32m~\\Anaconda3\\lib\\site-packages\\tensorflow\\python\\framework\\errors_impl.py\u001b[0m in \u001b[0;36m__exit__\u001b[1;34m(self, type_arg, value_arg, traceback_arg)\u001b[0m\n\u001b[0;32m    515\u001b[0m             \u001b[0mcompat\u001b[0m\u001b[1;33m.\u001b[0m\u001b[0mas_text\u001b[0m\u001b[1;33m(\u001b[0m\u001b[0mc_api\u001b[0m\u001b[1;33m.\u001b[0m\u001b[0mTF_Message\u001b[0m\u001b[1;33m(\u001b[0m\u001b[0mself\u001b[0m\u001b[1;33m.\u001b[0m\u001b[0mstatus\u001b[0m\u001b[1;33m.\u001b[0m\u001b[0mstatus\u001b[0m\u001b[1;33m)\u001b[0m\u001b[1;33m)\u001b[0m\u001b[1;33m,\u001b[0m\u001b[1;33m\u001b[0m\u001b[0m\n\u001b[1;32m--> 516\u001b[1;33m             c_api.TF_GetCode(self.status.status))\n\u001b[0m\u001b[0;32m    517\u001b[0m     \u001b[1;31m# Delete the underlying status object from memory otherwise it stays alive\u001b[0m\u001b[1;33m\u001b[0m\u001b[1;33m\u001b[0m\u001b[0m\n",
      "\u001b[1;31mResourceExhaustedError\u001b[0m: OOM when allocating tensor with shape[60000,300] and type float on /job:localhost/replica:0/task:0/device:GPU:0 by allocator GPU_0_bfc\n\t [[Node: training_13/Adam/mul_3 = Mul[T=DT_FLOAT, _device=\"/job:localhost/replica:0/task:0/device:GPU:0\"](Adam_18/beta_2/read, training_13/Adam/Variable_13/read)]]\nHint: If you want to see a list of allocated tensors when OOM happens, add report_tensor_allocations_upon_oom to RunOptions for current allocation info.\n\n\t [[Node: dense_21/BiasAdd/_3075 = _Recv[client_terminated=false, recv_device=\"/job:localhost/replica:0/task:0/device:CPU:0\", send_device=\"/job:localhost/replica:0/task:0/device:GPU:0\", send_device_incarnation=1, tensor_name=\"edge_589_dense_21/BiasAdd\", tensor_type=DT_FLOAT, _device=\"/job:localhost/replica:0/task:0/device:CPU:0\"]()]]\nHint: If you want to see a list of allocated tensors when OOM happens, add report_tensor_allocations_upon_oom to RunOptions for current allocation info.\n",
      "\nDuring handling of the above exception, another exception occurred:\n",
      "\u001b[1;31mResourceExhaustedError\u001b[0m                    Traceback (most recent call last)",
      "\u001b[1;32m<ipython-input-143-f7d0ebd02bf2>\u001b[0m in \u001b[0;36m<module>\u001b[1;34m()\u001b[0m\n\u001b[1;32m----> 1\u001b[1;33m \u001b[0mmodel_4\u001b[0m\u001b[1;33m.\u001b[0m\u001b[0mfit\u001b[0m\u001b[1;33m(\u001b[0m\u001b[0mtrim_train_x\u001b[0m\u001b[1;33m,\u001b[0m \u001b[0mtrim_train_y\u001b[0m\u001b[1;33m,\u001b[0m \u001b[0mvalidation_data\u001b[0m\u001b[1;33m=\u001b[0m\u001b[1;33m(\u001b[0m\u001b[0mtrim_val_x\u001b[0m\u001b[1;33m,\u001b[0m \u001b[0mtrim_val_y\u001b[0m\u001b[1;33m)\u001b[0m\u001b[1;33m,\u001b[0m \u001b[0mepochs\u001b[0m\u001b[1;33m=\u001b[0m\u001b[1;36m10\u001b[0m\u001b[1;33m,\u001b[0m \u001b[0mbatch_size\u001b[0m\u001b[1;33m=\u001b[0m\u001b[0mbs\u001b[0m\u001b[1;33m)\u001b[0m\u001b[1;31m#, class_weight=class_weights)\u001b[0m\u001b[1;33m\u001b[0m\u001b[0m\n\u001b[0m",
      "\u001b[1;32m~\\Anaconda3\\lib\\site-packages\\keras\\engine\\training.py\u001b[0m in \u001b[0;36mfit\u001b[1;34m(self, x, y, batch_size, epochs, verbose, callbacks, validation_split, validation_data, shuffle, class_weight, sample_weight, initial_epoch, steps_per_epoch, validation_steps, **kwargs)\u001b[0m\n\u001b[0;32m   1035\u001b[0m                                         \u001b[0minitial_epoch\u001b[0m\u001b[1;33m=\u001b[0m\u001b[0minitial_epoch\u001b[0m\u001b[1;33m,\u001b[0m\u001b[1;33m\u001b[0m\u001b[0m\n\u001b[0;32m   1036\u001b[0m                                         \u001b[0msteps_per_epoch\u001b[0m\u001b[1;33m=\u001b[0m\u001b[0msteps_per_epoch\u001b[0m\u001b[1;33m,\u001b[0m\u001b[1;33m\u001b[0m\u001b[0m\n\u001b[1;32m-> 1037\u001b[1;33m                                         validation_steps=validation_steps)\n\u001b[0m\u001b[0;32m   1038\u001b[0m \u001b[1;33m\u001b[0m\u001b[0m\n\u001b[0;32m   1039\u001b[0m     def evaluate(self, x=None, y=None,\n",
      "\u001b[1;32m~\\Anaconda3\\lib\\site-packages\\keras\\engine\\training_arrays.py\u001b[0m in \u001b[0;36mfit_loop\u001b[1;34m(model, f, ins, out_labels, batch_size, epochs, verbose, callbacks, val_f, val_ins, shuffle, callback_metrics, initial_epoch, steps_per_epoch, validation_steps)\u001b[0m\n\u001b[0;32m    197\u001b[0m                     \u001b[0mins_batch\u001b[0m\u001b[1;33m[\u001b[0m\u001b[0mi\u001b[0m\u001b[1;33m]\u001b[0m \u001b[1;33m=\u001b[0m \u001b[0mins_batch\u001b[0m\u001b[1;33m[\u001b[0m\u001b[0mi\u001b[0m\u001b[1;33m]\u001b[0m\u001b[1;33m.\u001b[0m\u001b[0mtoarray\u001b[0m\u001b[1;33m(\u001b[0m\u001b[1;33m)\u001b[0m\u001b[1;33m\u001b[0m\u001b[0m\n\u001b[0;32m    198\u001b[0m \u001b[1;33m\u001b[0m\u001b[0m\n\u001b[1;32m--> 199\u001b[1;33m                 \u001b[0mouts\u001b[0m \u001b[1;33m=\u001b[0m \u001b[0mf\u001b[0m\u001b[1;33m(\u001b[0m\u001b[0mins_batch\u001b[0m\u001b[1;33m)\u001b[0m\u001b[1;33m\u001b[0m\u001b[0m\n\u001b[0m\u001b[0;32m    200\u001b[0m                 \u001b[0mouts\u001b[0m \u001b[1;33m=\u001b[0m \u001b[0mto_list\u001b[0m\u001b[1;33m(\u001b[0m\u001b[0mouts\u001b[0m\u001b[1;33m)\u001b[0m\u001b[1;33m\u001b[0m\u001b[0m\n\u001b[0;32m    201\u001b[0m                 \u001b[1;32mfor\u001b[0m \u001b[0ml\u001b[0m\u001b[1;33m,\u001b[0m \u001b[0mo\u001b[0m \u001b[1;32min\u001b[0m \u001b[0mzip\u001b[0m\u001b[1;33m(\u001b[0m\u001b[0mout_labels\u001b[0m\u001b[1;33m,\u001b[0m \u001b[0mouts\u001b[0m\u001b[1;33m)\u001b[0m\u001b[1;33m:\u001b[0m\u001b[1;33m\u001b[0m\u001b[0m\n",
      "\u001b[1;32m~\\Anaconda3\\lib\\site-packages\\keras\\backend\\tensorflow_backend.py\u001b[0m in \u001b[0;36m__call__\u001b[1;34m(self, inputs)\u001b[0m\n\u001b[0;32m   2670\u001b[0m                     \u001b[1;34m'In order to feed symbolic tensors to a Keras model '\u001b[0m\u001b[1;33m\u001b[0m\u001b[0m\n\u001b[0;32m   2671\u001b[0m                     'in TensorFlow, you need tensorflow 1.8 or higher.')\n\u001b[1;32m-> 2672\u001b[1;33m             \u001b[1;32mreturn\u001b[0m \u001b[0mself\u001b[0m\u001b[1;33m.\u001b[0m\u001b[0m_legacy_call\u001b[0m\u001b[1;33m(\u001b[0m\u001b[0minputs\u001b[0m\u001b[1;33m)\u001b[0m\u001b[1;33m\u001b[0m\u001b[0m\n\u001b[0m\u001b[0;32m   2673\u001b[0m \u001b[1;33m\u001b[0m\u001b[0m\n\u001b[0;32m   2674\u001b[0m \u001b[1;33m\u001b[0m\u001b[0m\n",
      "\u001b[1;32m~\\Anaconda3\\lib\\site-packages\\keras\\backend\\tensorflow_backend.py\u001b[0m in \u001b[0;36m_legacy_call\u001b[1;34m(self, inputs)\u001b[0m\n\u001b[0;32m   2652\u001b[0m         \u001b[0msession\u001b[0m \u001b[1;33m=\u001b[0m \u001b[0mget_session\u001b[0m\u001b[1;33m(\u001b[0m\u001b[1;33m)\u001b[0m\u001b[1;33m\u001b[0m\u001b[0m\n\u001b[0;32m   2653\u001b[0m         updated = session.run(fetches=fetches, feed_dict=feed_dict,\n\u001b[1;32m-> 2654\u001b[1;33m                               **self.session_kwargs)\n\u001b[0m\u001b[0;32m   2655\u001b[0m         \u001b[1;32mreturn\u001b[0m \u001b[0mupdated\u001b[0m\u001b[1;33m[\u001b[0m\u001b[1;33m:\u001b[0m\u001b[0mlen\u001b[0m\u001b[1;33m(\u001b[0m\u001b[0mself\u001b[0m\u001b[1;33m.\u001b[0m\u001b[0moutputs\u001b[0m\u001b[1;33m)\u001b[0m\u001b[1;33m]\u001b[0m\u001b[1;33m\u001b[0m\u001b[0m\n\u001b[0;32m   2656\u001b[0m \u001b[1;33m\u001b[0m\u001b[0m\n",
      "\u001b[1;32m~\\Anaconda3\\lib\\site-packages\\tensorflow\\python\\client\\session.py\u001b[0m in \u001b[0;36mrun\u001b[1;34m(self, fetches, feed_dict, options, run_metadata)\u001b[0m\n\u001b[0;32m    903\u001b[0m     \u001b[1;32mtry\u001b[0m\u001b[1;33m:\u001b[0m\u001b[1;33m\u001b[0m\u001b[0m\n\u001b[0;32m    904\u001b[0m       result = self._run(None, fetches, feed_dict, options_ptr,\n\u001b[1;32m--> 905\u001b[1;33m                          run_metadata_ptr)\n\u001b[0m\u001b[0;32m    906\u001b[0m       \u001b[1;32mif\u001b[0m \u001b[0mrun_metadata\u001b[0m\u001b[1;33m:\u001b[0m\u001b[1;33m\u001b[0m\u001b[0m\n\u001b[0;32m    907\u001b[0m         \u001b[0mproto_data\u001b[0m \u001b[1;33m=\u001b[0m \u001b[0mtf_session\u001b[0m\u001b[1;33m.\u001b[0m\u001b[0mTF_GetBuffer\u001b[0m\u001b[1;33m(\u001b[0m\u001b[0mrun_metadata_ptr\u001b[0m\u001b[1;33m)\u001b[0m\u001b[1;33m\u001b[0m\u001b[0m\n",
      "\u001b[1;32m~\\Anaconda3\\lib\\site-packages\\tensorflow\\python\\client\\session.py\u001b[0m in \u001b[0;36m_run\u001b[1;34m(self, handle, fetches, feed_dict, options, run_metadata)\u001b[0m\n\u001b[0;32m   1138\u001b[0m     \u001b[1;32mif\u001b[0m \u001b[0mfinal_fetches\u001b[0m \u001b[1;32mor\u001b[0m \u001b[0mfinal_targets\u001b[0m \u001b[1;32mor\u001b[0m \u001b[1;33m(\u001b[0m\u001b[0mhandle\u001b[0m \u001b[1;32mand\u001b[0m \u001b[0mfeed_dict_tensor\u001b[0m\u001b[1;33m)\u001b[0m\u001b[1;33m:\u001b[0m\u001b[1;33m\u001b[0m\u001b[0m\n\u001b[0;32m   1139\u001b[0m       results = self._do_run(handle, final_targets, final_fetches,\n\u001b[1;32m-> 1140\u001b[1;33m                              feed_dict_tensor, options, run_metadata)\n\u001b[0m\u001b[0;32m   1141\u001b[0m     \u001b[1;32melse\u001b[0m\u001b[1;33m:\u001b[0m\u001b[1;33m\u001b[0m\u001b[0m\n\u001b[0;32m   1142\u001b[0m       \u001b[0mresults\u001b[0m \u001b[1;33m=\u001b[0m \u001b[1;33m[\u001b[0m\u001b[1;33m]\u001b[0m\u001b[1;33m\u001b[0m\u001b[0m\n",
      "\u001b[1;32m~\\Anaconda3\\lib\\site-packages\\tensorflow\\python\\client\\session.py\u001b[0m in \u001b[0;36m_do_run\u001b[1;34m(self, handle, target_list, fetch_list, feed_dict, options, run_metadata)\u001b[0m\n\u001b[0;32m   1319\u001b[0m     \u001b[1;32mif\u001b[0m \u001b[0mhandle\u001b[0m \u001b[1;32mis\u001b[0m \u001b[1;32mNone\u001b[0m\u001b[1;33m:\u001b[0m\u001b[1;33m\u001b[0m\u001b[0m\n\u001b[0;32m   1320\u001b[0m       return self._do_call(_run_fn, feeds, fetches, targets, options,\n\u001b[1;32m-> 1321\u001b[1;33m                            run_metadata)\n\u001b[0m\u001b[0;32m   1322\u001b[0m     \u001b[1;32melse\u001b[0m\u001b[1;33m:\u001b[0m\u001b[1;33m\u001b[0m\u001b[0m\n\u001b[0;32m   1323\u001b[0m       \u001b[1;32mreturn\u001b[0m \u001b[0mself\u001b[0m\u001b[1;33m.\u001b[0m\u001b[0m_do_call\u001b[0m\u001b[1;33m(\u001b[0m\u001b[0m_prun_fn\u001b[0m\u001b[1;33m,\u001b[0m \u001b[0mhandle\u001b[0m\u001b[1;33m,\u001b[0m \u001b[0mfeeds\u001b[0m\u001b[1;33m,\u001b[0m \u001b[0mfetches\u001b[0m\u001b[1;33m)\u001b[0m\u001b[1;33m\u001b[0m\u001b[0m\n",
      "\u001b[1;32m~\\Anaconda3\\lib\\site-packages\\tensorflow\\python\\client\\session.py\u001b[0m in \u001b[0;36m_do_call\u001b[1;34m(self, fn, *args)\u001b[0m\n\u001b[0;32m   1338\u001b[0m         \u001b[1;32mexcept\u001b[0m \u001b[0mKeyError\u001b[0m\u001b[1;33m:\u001b[0m\u001b[1;33m\u001b[0m\u001b[0m\n\u001b[0;32m   1339\u001b[0m           \u001b[1;32mpass\u001b[0m\u001b[1;33m\u001b[0m\u001b[0m\n\u001b[1;32m-> 1340\u001b[1;33m       \u001b[1;32mraise\u001b[0m \u001b[0mtype\u001b[0m\u001b[1;33m(\u001b[0m\u001b[0me\u001b[0m\u001b[1;33m)\u001b[0m\u001b[1;33m(\u001b[0m\u001b[0mnode_def\u001b[0m\u001b[1;33m,\u001b[0m \u001b[0mop\u001b[0m\u001b[1;33m,\u001b[0m \u001b[0mmessage\u001b[0m\u001b[1;33m)\u001b[0m\u001b[1;33m\u001b[0m\u001b[0m\n\u001b[0m\u001b[0;32m   1341\u001b[0m \u001b[1;33m\u001b[0m\u001b[0m\n\u001b[0;32m   1342\u001b[0m   \u001b[1;32mdef\u001b[0m \u001b[0m_extend_graph\u001b[0m\u001b[1;33m(\u001b[0m\u001b[0mself\u001b[0m\u001b[1;33m)\u001b[0m\u001b[1;33m:\u001b[0m\u001b[1;33m\u001b[0m\u001b[0m\n",
      "\u001b[1;31mResourceExhaustedError\u001b[0m: OOM when allocating tensor with shape[60000,300] and type float on /job:localhost/replica:0/task:0/device:GPU:0 by allocator GPU_0_bfc\n\t [[Node: training_13/Adam/mul_3 = Mul[T=DT_FLOAT, _device=\"/job:localhost/replica:0/task:0/device:GPU:0\"](Adam_18/beta_2/read, training_13/Adam/Variable_13/read)]]\nHint: If you want to see a list of allocated tensors when OOM happens, add report_tensor_allocations_upon_oom to RunOptions for current allocation info.\n\n\t [[Node: dense_21/BiasAdd/_3075 = _Recv[client_terminated=false, recv_device=\"/job:localhost/replica:0/task:0/device:CPU:0\", send_device=\"/job:localhost/replica:0/task:0/device:GPU:0\", send_device_incarnation=1, tensor_name=\"edge_589_dense_21/BiasAdd\", tensor_type=DT_FLOAT, _device=\"/job:localhost/replica:0/task:0/device:CPU:0\"]()]]\nHint: If you want to see a list of allocated tensors when OOM happens, add report_tensor_allocations_upon_oom to RunOptions for current allocation info.\n\n\nCaused by op 'training_13/Adam/mul_3', defined at:\n  File \"C:\\Users\\Ranet\\Anaconda3\\lib\\runpy.py\", line 193, in _run_module_as_main\n    \"__main__\", mod_spec)\n  File \"C:\\Users\\Ranet\\Anaconda3\\lib\\runpy.py\", line 85, in _run_code\n    exec(code, run_globals)\n  File \"C:\\Users\\Ranet\\Anaconda3\\lib\\site-packages\\ipykernel_launcher.py\", line 16, in <module>\n    app.launch_new_instance()\n  File \"C:\\Users\\Ranet\\Anaconda3\\lib\\site-packages\\traitlets\\config\\application.py\", line 658, in launch_instance\n    app.start()\n  File \"C:\\Users\\Ranet\\Anaconda3\\lib\\site-packages\\ipykernel\\kernelapp.py\", line 486, in start\n    self.io_loop.start()\n  File \"C:\\Users\\Ranet\\Anaconda3\\lib\\site-packages\\zmq\\eventloop\\ioloop.py\", line 177, in start\n    super(ZMQIOLoop, self).start()\n  File \"C:\\Users\\Ranet\\Anaconda3\\lib\\site-packages\\tornado\\ioloop.py\", line 888, in start\n    handler_func(fd_obj, events)\n  File \"C:\\Users\\Ranet\\Anaconda3\\lib\\site-packages\\tornado\\stack_context.py\", line 277, in null_wrapper\n    return fn(*args, **kwargs)\n  File \"C:\\Users\\Ranet\\Anaconda3\\lib\\site-packages\\zmq\\eventloop\\zmqstream.py\", line 440, in _handle_events\n    self._handle_recv()\n  File \"C:\\Users\\Ranet\\Anaconda3\\lib\\site-packages\\zmq\\eventloop\\zmqstream.py\", line 472, in _handle_recv\n    self._run_callback(callback, msg)\n  File \"C:\\Users\\Ranet\\Anaconda3\\lib\\site-packages\\zmq\\eventloop\\zmqstream.py\", line 414, in _run_callback\n    callback(*args, **kwargs)\n  File \"C:\\Users\\Ranet\\Anaconda3\\lib\\site-packages\\tornado\\stack_context.py\", line 277, in null_wrapper\n    return fn(*args, **kwargs)\n  File \"C:\\Users\\Ranet\\Anaconda3\\lib\\site-packages\\ipykernel\\kernelbase.py\", line 283, in dispatcher\n    return self.dispatch_shell(stream, msg)\n  File \"C:\\Users\\Ranet\\Anaconda3\\lib\\site-packages\\ipykernel\\kernelbase.py\", line 233, in dispatch_shell\n    handler(stream, idents, msg)\n  File \"C:\\Users\\Ranet\\Anaconda3\\lib\\site-packages\\ipykernel\\kernelbase.py\", line 399, in execute_request\n    user_expressions, allow_stdin)\n  File \"C:\\Users\\Ranet\\Anaconda3\\lib\\site-packages\\ipykernel\\ipkernel.py\", line 208, in do_execute\n    res = shell.run_cell(code, store_history=store_history, silent=silent)\n  File \"C:\\Users\\Ranet\\Anaconda3\\lib\\site-packages\\ipykernel\\zmqshell.py\", line 537, in run_cell\n    return super(ZMQInteractiveShell, self).run_cell(*args, **kwargs)\n  File \"C:\\Users\\Ranet\\Anaconda3\\lib\\site-packages\\IPython\\core\\interactiveshell.py\", line 2728, in run_cell\n    interactivity=interactivity, compiler=compiler, result=result)\n  File \"C:\\Users\\Ranet\\Anaconda3\\lib\\site-packages\\IPython\\core\\interactiveshell.py\", line 2856, in run_ast_nodes\n    if self.run_code(code, result):\n  File \"C:\\Users\\Ranet\\Anaconda3\\lib\\site-packages\\IPython\\core\\interactiveshell.py\", line 2910, in run_code\n    exec(code_obj, self.user_global_ns, self.user_ns)\n  File \"<ipython-input-142-f7d0ebd02bf2>\", line 1, in <module>\n    model_4.fit(trim_train_x, trim_train_y, validation_data=(trim_val_x, trim_val_y), epochs=10, batch_size=bs)#, class_weight=class_weights)\n  File \"C:\\Users\\Ranet\\Anaconda3\\lib\\site-packages\\keras\\engine\\training.py\", line 1008, in fit\n    self._make_train_function()\n  File \"C:\\Users\\Ranet\\Anaconda3\\lib\\site-packages\\keras\\engine\\training.py\", line 498, in _make_train_function\n    loss=self.total_loss)\n  File \"C:\\Users\\Ranet\\Anaconda3\\lib\\site-packages\\keras\\legacy\\interfaces.py\", line 91, in wrapper\n    return func(*args, **kwargs)\n  File \"C:\\Users\\Ranet\\Anaconda3\\lib\\site-packages\\keras\\optimizers.py\", line 492, in get_updates\n    v_t = (self.beta_2 * v) + (1. - self.beta_2) * K.square(g)\n  File \"C:\\Users\\Ranet\\Anaconda3\\lib\\site-packages\\tensorflow\\python\\ops\\variables.py\", line 790, in _run_op\n    return getattr(ops.Tensor, operator)(a._AsTensor(), *args)\n  File \"C:\\Users\\Ranet\\Anaconda3\\lib\\site-packages\\tensorflow\\python\\ops\\math_ops.py\", line 971, in binary_op_wrapper\n    return func(x, y, name=name)\n  File \"C:\\Users\\Ranet\\Anaconda3\\lib\\site-packages\\tensorflow\\python\\ops\\math_ops.py\", line 1198, in _mul_dispatch\n    return gen_math_ops.mul(x, y, name=name)\n  File \"C:\\Users\\Ranet\\Anaconda3\\lib\\site-packages\\tensorflow\\python\\ops\\gen_math_ops.py\", line 4991, in mul\n    \"Mul\", x=x, y=y, name=name)\n  File \"C:\\Users\\Ranet\\Anaconda3\\lib\\site-packages\\tensorflow\\python\\framework\\op_def_library.py\", line 787, in _apply_op_helper\n    op_def=op_def)\n  File \"C:\\Users\\Ranet\\Anaconda3\\lib\\site-packages\\tensorflow\\python\\framework\\ops.py\", line 3290, in create_op\n    op_def=op_def)\n  File \"C:\\Users\\Ranet\\Anaconda3\\lib\\site-packages\\tensorflow\\python\\framework\\ops.py\", line 1654, in __init__\n    self._traceback = self._graph._extract_stack()  # pylint: disable=protected-access\n\nResourceExhaustedError (see above for traceback): OOM when allocating tensor with shape[60000,300] and type float on /job:localhost/replica:0/task:0/device:GPU:0 by allocator GPU_0_bfc\n\t [[Node: training_13/Adam/mul_3 = Mul[T=DT_FLOAT, _device=\"/job:localhost/replica:0/task:0/device:GPU:0\"](Adam_18/beta_2/read, training_13/Adam/Variable_13/read)]]\nHint: If you want to see a list of allocated tensors when OOM happens, add report_tensor_allocations_upon_oom to RunOptions for current allocation info.\n\n\t [[Node: dense_21/BiasAdd/_3075 = _Recv[client_terminated=false, recv_device=\"/job:localhost/replica:0/task:0/device:CPU:0\", send_device=\"/job:localhost/replica:0/task:0/device:GPU:0\", send_device_incarnation=1, tensor_name=\"edge_589_dense_21/BiasAdd\", tensor_type=DT_FLOAT, _device=\"/job:localhost/replica:0/task:0/device:CPU:0\"]()]]\nHint: If you want to see a list of allocated tensors when OOM happens, add report_tensor_allocations_upon_oom to RunOptions for current allocation info.\n\n"
     ]
    }
   ],
   "source": [
    "model_4.fit(trim_train_x, trim_train_y, validation_data=(trim_val_x, trim_val_y), epochs=10, batch_size=bs)#, class_weight=class_weights)"
   ]
  },
  {
   "cell_type": "markdown",
   "metadata": {},
   "source": [
    "# TODO:"
   ]
  },
  {
   "cell_type": "markdown",
   "metadata": {
    "ExecuteTime": {
     "end_time": "2018-08-01T18:49:48.600967Z",
     "start_time": "2018-08-01T18:49:48.598965Z"
    }
   },
   "source": [
    "- class weights+\n",
    "- refactor classes seperate all, use tags with softmax top two with some certain probability"
   ]
  },
  {
   "cell_type": "code",
   "execution_count": 107,
   "metadata": {
    "ExecuteTime": {
     "end_time": "2018-09-01T18:19:55.854989Z",
     "start_time": "2018-09-01T18:19:36.271571Z"
    }
   },
   "outputs": [],
   "source": [
    "trim_train_texts, trim_train_labels = trim(train_texts, train_labels, min_count)"
   ]
  },
  {
   "cell_type": "code",
   "execution_count": 108,
   "metadata": {
    "ExecuteTime": {
     "end_time": "2018-09-01T18:19:56.004009Z",
     "start_time": "2018-09-01T18:19:55.998991Z"
    }
   },
   "outputs": [],
   "source": [
    "from sklearn.pipeline import Pipeline\n",
    "from sklearn.feature_extraction.text import TfidfTransformer\n",
    "from sklearn.feature_extraction.text import CountVectorizer\n",
    "from sklearn.linear_model import SGDClassifier\n",
    "\n",
    "text_clf = Pipeline([('vect', CountVectorizer()),\n",
    "                     ('tfidf', TfidfTransformer()),\n",
    "                     ('clf', SGDClassifier(loss='hinge', penalty='l2',\n",
    "                                           alpha=1e-5, random_state=42,\n",
    "                                           max_iter=25, tol=None)),])"
   ]
  },
  {
   "cell_type": "code",
   "execution_count": 110,
   "metadata": {
    "ExecuteTime": {
     "end_time": "2018-09-01T18:21:12.371933Z",
     "start_time": "2018-09-01T18:20:11.753027Z"
    }
   },
   "outputs": [],
   "source": [
    "text_clf.fit(trim_train_texts, trim_train_labels)  \n",
    "predicted = text_clf.predict(val_texts)      "
   ]
  },
  {
   "cell_type": "code",
   "execution_count": 111,
   "metadata": {
    "ExecuteTime": {
     "end_time": "2018-09-01T18:21:37.542342Z",
     "start_time": "2018-09-01T18:21:37.537324Z"
    }
   },
   "outputs": [
    {
     "data": {
      "text/plain": [
       "0.9225061830173125"
      ]
     },
     "execution_count": 111,
     "metadata": {},
     "output_type": "execute_result"
    }
   ],
   "source": [
    "np.mean(predicted == np.asarray(val_labels))"
   ]
  },
  {
   "cell_type": "code",
   "execution_count": null,
   "metadata": {},
   "outputs": [],
   "source": []
  }
 ],
 "metadata": {
  "kernelspec": {
   "display_name": "Python 3",
   "language": "python",
   "name": "python3"
  },
  "language_info": {
   "codemirror_mode": {
    "name": "ipython",
    "version": 3
   },
   "file_extension": ".py",
   "mimetype": "text/x-python",
   "name": "python",
   "nbconvert_exporter": "python",
   "pygments_lexer": "ipython3",
   "version": "3.6.4"
  },
  "varInspector": {
   "cols": {
    "lenName": 16,
    "lenType": 16,
    "lenVar": 40
   },
   "kernels_config": {
    "python": {
     "delete_cmd_postfix": "",
     "delete_cmd_prefix": "del ",
     "library": "var_list.py",
     "varRefreshCmd": "print(var_dic_list())"
    },
    "r": {
     "delete_cmd_postfix": ") ",
     "delete_cmd_prefix": "rm(",
     "library": "var_list.r",
     "varRefreshCmd": "cat(var_dic_list()) "
    }
   },
   "oldHeight": 122,
   "position": {
    "height": "43px",
    "left": "1548px",
    "right": "20px",
    "top": "118px",
    "width": "302px"
   },
   "types_to_exclude": [
    "module",
    "function",
    "builtin_function_or_method",
    "instance",
    "_Feature"
   ],
   "varInspector_section_display": "none",
   "window_display": false
  }
 },
 "nbformat": 4,
 "nbformat_minor": 2
}
